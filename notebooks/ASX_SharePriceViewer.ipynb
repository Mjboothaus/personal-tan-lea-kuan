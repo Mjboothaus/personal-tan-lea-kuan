{
  "cells": [
    {
      "cell_type": "code",
      "execution_count": 1,
      "metadata": {
        "id": "UR3ltPFjDyU6",
        "colab": {
          "base_uri": "https://localhost:8080/"
        },
        "outputId": "3e73de96-e1b8-4268-f058-4e39820df812"
      },
      "outputs": [
        {
          "output_type": "stream",
          "name": "stdout",
          "text": [
            "Collecting yahooquery\n",
            "  Downloading yahooquery-2.2.15-py2.py3-none-any.whl (46 kB)\n",
            "\u001b[?25l\r\u001b[K     |███████                         | 10 kB 25.3 MB/s eta 0:00:01\r\u001b[K     |██████████████▏                 | 20 kB 25.8 MB/s eta 0:00:01\r\u001b[K     |█████████████████████▏          | 30 kB 28.3 MB/s eta 0:00:01\r\u001b[K     |████████████████████████████▎   | 40 kB 28.0 MB/s eta 0:00:01\r\u001b[K     |████████████████████████████████| 46 kB 4.3 MB/s \n",
            "\u001b[?25hRequirement already satisfied: tqdm>=4.54.1 in /usr/local/lib/python3.7/dist-packages (from yahooquery) (4.62.3)\n",
            "Collecting lxml>=4.6.2\n",
            "  Downloading lxml-4.7.1-cp37-cp37m-manylinux_2_17_x86_64.manylinux2014_x86_64.manylinux_2_24_x86_64.whl (6.4 MB)\n",
            "\u001b[K     |████████████████████████████████| 6.4 MB 42.2 MB/s \n",
            "\u001b[?25hCollecting requests-futures>=1.0.0\n",
            "  Downloading requests_futures-1.0.0-py2.py3-none-any.whl (7.4 kB)\n",
            "Requirement already satisfied: pandas>=0.24.0 in /usr/local/lib/python3.7/dist-packages (from yahooquery) (1.1.5)\n",
            "Requirement already satisfied: numpy>=1.15.4 in /usr/local/lib/python3.7/dist-packages (from pandas>=0.24.0->yahooquery) (1.19.5)\n",
            "Requirement already satisfied: pytz>=2017.2 in /usr/local/lib/python3.7/dist-packages (from pandas>=0.24.0->yahooquery) (2018.9)\n",
            "Requirement already satisfied: python-dateutil>=2.7.3 in /usr/local/lib/python3.7/dist-packages (from pandas>=0.24.0->yahooquery) (2.8.2)\n",
            "Requirement already satisfied: six>=1.5 in /usr/local/lib/python3.7/dist-packages (from python-dateutil>=2.7.3->pandas>=0.24.0->yahooquery) (1.15.0)\n",
            "Requirement already satisfied: requests>=1.2.0 in /usr/local/lib/python3.7/dist-packages (from requests-futures>=1.0.0->yahooquery) (2.23.0)\n",
            "Requirement already satisfied: urllib3!=1.25.0,!=1.25.1,<1.26,>=1.21.1 in /usr/local/lib/python3.7/dist-packages (from requests>=1.2.0->requests-futures>=1.0.0->yahooquery) (1.24.3)\n",
            "Requirement already satisfied: chardet<4,>=3.0.2 in /usr/local/lib/python3.7/dist-packages (from requests>=1.2.0->requests-futures>=1.0.0->yahooquery) (3.0.4)\n",
            "Requirement already satisfied: idna<3,>=2.5 in /usr/local/lib/python3.7/dist-packages (from requests>=1.2.0->requests-futures>=1.0.0->yahooquery) (2.10)\n",
            "Requirement already satisfied: certifi>=2017.4.17 in /usr/local/lib/python3.7/dist-packages (from requests>=1.2.0->requests-futures>=1.0.0->yahooquery) (2021.10.8)\n",
            "Installing collected packages: requests-futures, lxml, yahooquery\n",
            "  Attempting uninstall: lxml\n",
            "    Found existing installation: lxml 4.2.6\n",
            "    Uninstalling lxml-4.2.6:\n",
            "      Successfully uninstalled lxml-4.2.6\n",
            "Successfully installed lxml-4.7.1 requests-futures-1.0.0 yahooquery-2.2.15\n"
          ]
        }
      ],
      "source": [
        "#!pip install yahooquery"
      ]
    },
    {
      "cell_type": "code",
      "execution_count": 2,
      "metadata": {
        "id": "wV5ZgBF0K_Yk"
      },
      "outputs": [],
      "source": [
        "import altair as alt\n",
        "import pandas as pd\n",
        "import requests\n",
        "import json"
      ]
    },
    {
      "cell_type": "code",
      "execution_count": 3,
      "metadata": {
        "id": "wcTyTucN138R"
      },
      "outputs": [],
      "source": [
        "ASX_TICKERS_URL = \"https://www.asx.com.au/asx/research/ASXListedCompanies.csv\""
      ]
    },
    {
      "cell_type": "code",
      "execution_count": 4,
      "metadata": {
        "id": "ytbcOCuV1_V8"
      },
      "outputs": [],
      "source": [
        "asx_tickers_df = pd.read_csv(ASX_TICKERS_URL, skiprows=1)"
      ]
    },
    {
      "cell_type": "code",
      "execution_count": 5,
      "metadata": {
        "colab": {
          "base_uri": "https://localhost:8080/",
          "height": 655
        },
        "id": "R-rjPeyW2JQT",
        "outputId": "19bbbbd6-3e45-4b87-b14a-a520c3063f60"
      },
      "outputs": [
        {
          "output_type": "execute_result",
          "data": {
            "text/html": [
              "\n",
              "  <div id=\"df-b9f65ee0-1ac3-4768-a90c-f9ba7fcba1fd\">\n",
              "    <div class=\"colab-df-container\">\n",
              "      <div>\n",
              "<style scoped>\n",
              "    .dataframe tbody tr th:only-of-type {\n",
              "        vertical-align: middle;\n",
              "    }\n",
              "\n",
              "    .dataframe tbody tr th {\n",
              "        vertical-align: top;\n",
              "    }\n",
              "\n",
              "    .dataframe thead th {\n",
              "        text-align: right;\n",
              "    }\n",
              "</style>\n",
              "<table border=\"1\" class=\"dataframe\">\n",
              "  <thead>\n",
              "    <tr style=\"text-align: right;\">\n",
              "      <th></th>\n",
              "      <th>Company name</th>\n",
              "      <th>ASX code</th>\n",
              "      <th>GICS industry group</th>\n",
              "    </tr>\n",
              "  </thead>\n",
              "  <tbody>\n",
              "    <tr>\n",
              "      <th>0</th>\n",
              "      <td>MOQ LIMITED</td>\n",
              "      <td>MOQ</td>\n",
              "      <td>Software &amp; Services</td>\n",
              "    </tr>\n",
              "    <tr>\n",
              "      <th>1</th>\n",
              "      <td>1414 DEGREES LIMITED</td>\n",
              "      <td>14D</td>\n",
              "      <td>Capital Goods</td>\n",
              "    </tr>\n",
              "    <tr>\n",
              "      <th>2</th>\n",
              "      <td>1ST GROUP LIMITED</td>\n",
              "      <td>1ST</td>\n",
              "      <td>Health Care Equipment &amp; Services</td>\n",
              "    </tr>\n",
              "    <tr>\n",
              "      <th>3</th>\n",
              "      <td>29METALS LIMITED</td>\n",
              "      <td>29M</td>\n",
              "      <td>Materials</td>\n",
              "    </tr>\n",
              "    <tr>\n",
              "      <th>4</th>\n",
              "      <td>333D LIMITED</td>\n",
              "      <td>T3D</td>\n",
              "      <td>Commercial &amp; Professional Services</td>\n",
              "    </tr>\n",
              "    <tr>\n",
              "      <th>...</th>\n",
              "      <td>...</td>\n",
              "      <td>...</td>\n",
              "      <td>...</td>\n",
              "    </tr>\n",
              "    <tr>\n",
              "      <th>2260</th>\n",
              "      <td>ZINC OF IRELAND NL</td>\n",
              "      <td>ZMI</td>\n",
              "      <td>Materials</td>\n",
              "    </tr>\n",
              "    <tr>\n",
              "      <th>2261</th>\n",
              "      <td>ZIP CO LIMITED.</td>\n",
              "      <td>Z1P</td>\n",
              "      <td>Diversified Financials</td>\n",
              "    </tr>\n",
              "    <tr>\n",
              "      <th>2262</th>\n",
              "      <td>ZOOM2U TECHNOLOGIES LIMITED</td>\n",
              "      <td>Z2U</td>\n",
              "      <td>Transportation</td>\n",
              "    </tr>\n",
              "    <tr>\n",
              "      <th>2263</th>\n",
              "      <td>ZOONO GROUP LIMITED</td>\n",
              "      <td>ZNO</td>\n",
              "      <td>Materials</td>\n",
              "    </tr>\n",
              "    <tr>\n",
              "      <th>2264</th>\n",
              "      <td>ZULEIKA GOLD LIMITED</td>\n",
              "      <td>ZAG</td>\n",
              "      <td>Materials</td>\n",
              "    </tr>\n",
              "  </tbody>\n",
              "</table>\n",
              "<p>2265 rows × 3 columns</p>\n",
              "</div>\n",
              "      <button class=\"colab-df-convert\" onclick=\"convertToInteractive('df-b9f65ee0-1ac3-4768-a90c-f9ba7fcba1fd')\"\n",
              "              title=\"Convert this dataframe to an interactive table.\"\n",
              "              style=\"display:none;\">\n",
              "        \n",
              "  <svg xmlns=\"http://www.w3.org/2000/svg\" height=\"24px\"viewBox=\"0 0 24 24\"\n",
              "       width=\"24px\">\n",
              "    <path d=\"M0 0h24v24H0V0z\" fill=\"none\"/>\n",
              "    <path d=\"M18.56 5.44l.94 2.06.94-2.06 2.06-.94-2.06-.94-.94-2.06-.94 2.06-2.06.94zm-11 1L8.5 8.5l.94-2.06 2.06-.94-2.06-.94L8.5 2.5l-.94 2.06-2.06.94zm10 10l.94 2.06.94-2.06 2.06-.94-2.06-.94-.94-2.06-.94 2.06-2.06.94z\"/><path d=\"M17.41 7.96l-1.37-1.37c-.4-.4-.92-.59-1.43-.59-.52 0-1.04.2-1.43.59L10.3 9.45l-7.72 7.72c-.78.78-.78 2.05 0 2.83L4 21.41c.39.39.9.59 1.41.59.51 0 1.02-.2 1.41-.59l7.78-7.78 2.81-2.81c.8-.78.8-2.07 0-2.86zM5.41 20L4 18.59l7.72-7.72 1.47 1.35L5.41 20z\"/>\n",
              "  </svg>\n",
              "      </button>\n",
              "      \n",
              "  <style>\n",
              "    .colab-df-container {\n",
              "      display:flex;\n",
              "      flex-wrap:wrap;\n",
              "      gap: 12px;\n",
              "    }\n",
              "\n",
              "    .colab-df-convert {\n",
              "      background-color: #E8F0FE;\n",
              "      border: none;\n",
              "      border-radius: 50%;\n",
              "      cursor: pointer;\n",
              "      display: none;\n",
              "      fill: #1967D2;\n",
              "      height: 32px;\n",
              "      padding: 0 0 0 0;\n",
              "      width: 32px;\n",
              "    }\n",
              "\n",
              "    .colab-df-convert:hover {\n",
              "      background-color: #E2EBFA;\n",
              "      box-shadow: 0px 1px 2px rgba(60, 64, 67, 0.3), 0px 1px 3px 1px rgba(60, 64, 67, 0.15);\n",
              "      fill: #174EA6;\n",
              "    }\n",
              "\n",
              "    [theme=dark] .colab-df-convert {\n",
              "      background-color: #3B4455;\n",
              "      fill: #D2E3FC;\n",
              "    }\n",
              "\n",
              "    [theme=dark] .colab-df-convert:hover {\n",
              "      background-color: #434B5C;\n",
              "      box-shadow: 0px 1px 3px 1px rgba(0, 0, 0, 0.15);\n",
              "      filter: drop-shadow(0px 1px 2px rgba(0, 0, 0, 0.3));\n",
              "      fill: #FFFFFF;\n",
              "    }\n",
              "  </style>\n",
              "\n",
              "      <script>\n",
              "        const buttonEl =\n",
              "          document.querySelector('#df-b9f65ee0-1ac3-4768-a90c-f9ba7fcba1fd button.colab-df-convert');\n",
              "        buttonEl.style.display =\n",
              "          google.colab.kernel.accessAllowed ? 'block' : 'none';\n",
              "\n",
              "        async function convertToInteractive(key) {\n",
              "          const element = document.querySelector('#df-b9f65ee0-1ac3-4768-a90c-f9ba7fcba1fd');\n",
              "          const dataTable =\n",
              "            await google.colab.kernel.invokeFunction('convertToInteractive',\n",
              "                                                     [key], {});\n",
              "          if (!dataTable) return;\n",
              "\n",
              "          const docLinkHtml = 'Like what you see? Visit the ' +\n",
              "            '<a target=\"_blank\" href=https://colab.research.google.com/notebooks/data_table.ipynb>data table notebook</a>'\n",
              "            + ' to learn more about interactive tables.';\n",
              "          element.innerHTML = '';\n",
              "          dataTable['output_type'] = 'display_data';\n",
              "          await google.colab.output.renderOutput(dataTable, element);\n",
              "          const docLink = document.createElement('div');\n",
              "          docLink.innerHTML = docLinkHtml;\n",
              "          element.appendChild(docLink);\n",
              "        }\n",
              "      </script>\n",
              "    </div>\n",
              "  </div>\n",
              "  "
            ],
            "text/plain": [
              "                     Company name ASX code                 GICS industry group\n",
              "0                     MOQ LIMITED      MOQ                 Software & Services\n",
              "1            1414 DEGREES LIMITED      14D                       Capital Goods\n",
              "2               1ST GROUP LIMITED      1ST    Health Care Equipment & Services\n",
              "3                29METALS LIMITED      29M                           Materials\n",
              "4                    333D LIMITED      T3D  Commercial & Professional Services\n",
              "...                           ...      ...                                 ...\n",
              "2260           ZINC OF IRELAND NL      ZMI                           Materials\n",
              "2261              ZIP CO LIMITED.      Z1P              Diversified Financials\n",
              "2262  ZOOM2U TECHNOLOGIES LIMITED      Z2U                      Transportation\n",
              "2263          ZOONO GROUP LIMITED      ZNO                           Materials\n",
              "2264         ZULEIKA GOLD LIMITED      ZAG                           Materials\n",
              "\n",
              "[2265 rows x 3 columns]"
            ]
          },
          "metadata": {},
          "execution_count": 5
        }
      ],
      "source": [
        "asx_tickers_df"
      ]
    },
    {
      "cell_type": "code",
      "execution_count": 6,
      "metadata": {
        "id": "zKG5BtG32i3y"
      },
      "outputs": [],
      "source": [
        "def lookup_company_name(asx_code):\n",
        "  asx_code = asx_code.replace(\".AX\", \"\")\n",
        "  return asx_tickers_df[asx_tickers_df[\"ASX code\"] == asx_code][\"Company name\"].to_list()[0].title().replace(\".\", \"\")"
      ]
    },
    {
      "cell_type": "code",
      "execution_count": 7,
      "metadata": {
        "id": "Rk6kxnMF28ty"
      },
      "outputs": [],
      "source": [
        "company_name = lookup_company_name(\"CBA.AX\")"
      ]
    },
    {
      "cell_type": "code",
      "execution_count": 8,
      "metadata": {
        "colab": {
          "base_uri": "https://localhost:8080/",
          "height": 35
        },
        "id": "6smAqkMJ3Rc2",
        "outputId": "e9d64e2c-48d8-4f0e-bb3e-edded6c02f10"
      },
      "outputs": [
        {
          "output_type": "execute_result",
          "data": {
            "application/vnd.google.colaboratory.intrinsic+json": {
              "type": "string"
            },
            "text/plain": [
              "'Commonwealth Bank Of Australia'"
            ]
          },
          "metadata": {},
          "execution_count": 8
        }
      ],
      "source": [
        "company_name"
      ]
    },
    {
      "cell_type": "code",
      "execution_count": 9,
      "metadata": {
        "id": "9OoJhVWwDOCF"
      },
      "outputs": [],
      "source": [
        "from yahooquery import Ticker\n",
        "\n",
        "# Documentation: https://yahooquery.dpguthrie.com/guide/ticker/historical/\n",
        "\n",
        "# See also: https://asxportfolio.com/shares-python-for-finance-getting-stock-data\n",
        "\n",
        "# Example ASX API to get latest data -  e.g. CBA: https://www.asx.com.au/asx/1/share/CBA"
      ]
    },
    {
      "cell_type": "code",
      "execution_count": 10,
      "metadata": {
        "id": "nnMbbJsu7X6E"
      },
      "outputs": [],
      "source": [
        "ASX_DATA_URL = \"https://www.asx.com.au/asx/1/share/\""
      ]
    },
    {
      "cell_type": "code",
      "execution_count": 11,
      "metadata": {
        "id": "HyDNys6M7fex"
      },
      "outputs": [],
      "source": [
        "def get_market_cap(asx_code):\n",
        "  asx_code = asx_code.replace(\".AX\", \"\")\n",
        "  r = requests.get(ASX_DATA_URL + asx_code)\n",
        "  data = json.loads(r.text)\n",
        "  try:\n",
        "    return data[\"market_cap\"]\n",
        "  except:\n",
        "    return None"
      ]
    },
    {
      "cell_type": "code",
      "execution_count": 12,
      "metadata": {
        "colab": {
          "base_uri": "https://localhost:8080/"
        },
        "id": "8RZPxVKO7vx4",
        "outputId": "6e4540c7-84f9-4cb9-bc8d-190044d5388e"
      },
      "outputs": [
        {
          "output_type": "execute_result",
          "data": {
            "text/plain": [
              "78801352036"
            ]
          },
          "metadata": {},
          "execution_count": 12
        }
      ],
      "source": [
        "get_market_cap(\"WBC.AX\")"
      ]
    },
    {
      "cell_type": "code",
      "execution_count": null,
      "metadata": {
        "colab": {
          "background_save": true
        },
        "id": "LDSDN9979rTM"
      },
      "outputs": [],
      "source": [
        "asx_tickers_df[\"market_cap\"] = asx_tickers_df[\"ASX code\"].apply(lambda code: get_market_cap(code))"
      ]
    },
    {
      "cell_type": "code",
      "execution_count": null,
      "metadata": {
        "id": "NOtla_RSBz19"
      },
      "outputs": [],
      "source": [
        "asx_tickers_df"
      ]
    },
    {
      "cell_type": "code",
      "execution_count": null,
      "metadata": {
        "id": "_iZLHnXkFJ9x"
      },
      "outputs": [],
      "source": [
        "ticker_list = \"CBA.AX WBC.AX\""
      ]
    },
    {
      "cell_type": "code",
      "execution_count": null,
      "metadata": {
        "id": "NFzUUKyvJ9sz"
      },
      "outputs": [],
      "source": [
        "start_date = \"2021-01-01\"\n",
        "end_date = \"2021-12-31\""
      ]
    },
    {
      "cell_type": "code",
      "execution_count": null,
      "metadata": {
        "id": "vj8cPh60IwcX"
      },
      "outputs": [],
      "source": [
        "tickers = Ticker(ticker_list)"
      ]
    },
    {
      "cell_type": "code",
      "execution_count": null,
      "metadata": {
        "colab": {
          "base_uri": "https://localhost:8080/"
        },
        "id": "CwieBXSBx18h",
        "outputId": "7af67374-1ed1-4375-b5d6-42a3b70763f3"
      },
      "outputs": [
        {
          "data": {
            "text/plain": [
              "{'CBA.AX': {'52WeekChange': 0.16746473,\n",
              "  'SandP52WeekChange': 0.22782826,\n",
              "  'beta': 0.706696,\n",
              "  'bookValue': 44.41,\n",
              "  'category': None,\n",
              "  'earningsQuarterlyGrowth': 0.546,\n",
              "  'enterpriseToRevenue': 11.41,\n",
              "  'enterpriseValue': 273513938944,\n",
              "  'floatShares': 1767823060,\n",
              "  'forwardEps': 5.17,\n",
              "  'forwardPE': 19.854933,\n",
              "  'fundFamily': None,\n",
              "  'heldPercentInsiders': 0.00411,\n",
              "  'heldPercentInstitutions': 0.19771999,\n",
              "  'lastDividendDate': 1629158400,\n",
              "  'lastDividendValue': 2.0,\n",
              "  'lastFiscalYearEnd': '2021-06-30 00:00:00',\n",
              "  'lastSplitDate': '1999-10-06 00:00:00',\n",
              "  'lastSplitFactor': '1:1',\n",
              "  'legalType': None,\n",
              "  'maxAge': 1,\n",
              "  'mostRecentQuarter': '2021-06-30 00:00:00',\n",
              "  'netIncomeToCommon': 8842999808,\n",
              "  'nextFiscalYearEnd': '2023-06-30 00:00:00',\n",
              "  'pegRatio': 4.31,\n",
              "  'priceHint': 2,\n",
              "  'priceToBook': 2.3114164,\n",
              "  'profitMargins': 0.42470002,\n",
              "  'sharesOutstanding': 1706390016,\n",
              "  'trailingEps': 5.399},\n",
              " 'WBC.AX': {'52WeekChange': 0.059171557,\n",
              "  'SandP52WeekChange': 0.22782826,\n",
              "  'beta': 0.846403,\n",
              "  'bookValue': 19.659,\n",
              "  'category': None,\n",
              "  'earningsQuarterlyGrowth': 0.832,\n",
              "  'enterpriseToRevenue': 8.421,\n",
              "  'enterpriseValue': 183670751232,\n",
              "  'floatShares': 3663239137,\n",
              "  'forwardEps': 1.86,\n",
              "  'forwardPE': 11.693548,\n",
              "  'fundFamily': None,\n",
              "  'heldPercentInsiders': 0.00225,\n",
              "  'heldPercentInstitutions': 0.24836999,\n",
              "  'lastDividendDate': 1635984000,\n",
              "  'lastDividendValue': 0.6,\n",
              "  'lastFiscalYearEnd': '2021-09-30 00:00:00',\n",
              "  'lastSplitDate': '1997-10-17 00:00:00',\n",
              "  'lastSplitFactor': '1:1',\n",
              "  'legalType': None,\n",
              "  'maxAge': 1,\n",
              "  'mostRecentQuarter': '2021-09-30 00:00:00',\n",
              "  'netIncomeToCommon': 5456000000,\n",
              "  'nextFiscalYearEnd': '2023-09-30 00:00:00',\n",
              "  'pegRatio': 0.72,\n",
              "  'priceHint': 2,\n",
              "  'priceToBook': 1.1063634,\n",
              "  'profitMargins': 0.25023,\n",
              "  'sharesOutstanding': 3665129984,\n",
              "  'trailingEps': 1.378}}"
            ]
          },
          "execution_count": 38,
          "metadata": {},
          "output_type": "execute_result"
        }
      ],
      "source": [
        "tickers.key_stats"
      ]
    },
    {
      "cell_type": "code",
      "execution_count": null,
      "metadata": {
        "colab": {
          "base_uri": "https://localhost:8080/"
        },
        "id": "C8Fk0ZpzySAW",
        "outputId": "6dba9a39-82ba-41f7-8f8a-34386c28354f"
      },
      "outputs": [
        {
          "data": {
            "text/plain": [
              "{'CBA.AX': {'algorithm': None,\n",
              "  'ask': 102.66,\n",
              "  'askSize': 0,\n",
              "  'averageDailyVolume10Day': 1648000,\n",
              "  'averageVolume': 2518572,\n",
              "  'averageVolume10days': 1648000,\n",
              "  'beta': 0.706696,\n",
              "  'bid': 102.65,\n",
              "  'bidSize': 0,\n",
              "  'currency': 'AUD',\n",
              "  'dayHigh': 102.87,\n",
              "  'dayLow': 101.89,\n",
              "  'dividendRate': 4.0,\n",
              "  'dividendYield': 0.0388,\n",
              "  'exDividendDate': '2021-08-17 00:00:00',\n",
              "  'fiftyDayAverage': 100.7694,\n",
              "  'fiftyTwoWeekHigh': 110.19,\n",
              "  'fiftyTwoWeekLow': 81.56,\n",
              "  'fiveYearAvgDividendYield': 5.04,\n",
              "  'forwardPE': 19.854933,\n",
              "  'fromCurrency': None,\n",
              "  'lastMarket': None,\n",
              "  'marketCap': 175160934400,\n",
              "  'maxAge': 1,\n",
              "  'open': 101.99,\n",
              "  'payoutRatio': 0.527,\n",
              "  'previousClose': 99.97,\n",
              "  'priceHint': 2,\n",
              "  'priceToSalesTrailing12Months': 7.306897,\n",
              "  'regularMarketDayHigh': 102.87,\n",
              "  'regularMarketDayLow': 101.89,\n",
              "  'regularMarketOpen': 101.99,\n",
              "  'regularMarketPreviousClose': 99.97,\n",
              "  'regularMarketVolume': 2591847,\n",
              "  'toCurrency': None,\n",
              "  'tradeable': False,\n",
              "  'trailingAnnualDividendRate': 3.5,\n",
              "  'trailingAnnualDividendYield': 0.0350105,\n",
              "  'trailingPE': 19.01278,\n",
              "  'twoHundredDayAverage': 99.3467,\n",
              "  'volume': 2591847},\n",
              " 'WBC.AX': {'algorithm': None,\n",
              "  'ask': 21.77,\n",
              "  'askSize': 0,\n",
              "  'averageDailyVolume10Day': 6075578,\n",
              "  'averageVolume': 8595248,\n",
              "  'averageVolume10days': 6075578,\n",
              "  'beta': 0.846403,\n",
              "  'bid': 21.72,\n",
              "  'bidSize': 0,\n",
              "  'currency': 'AUD',\n",
              "  'dayHigh': 21.89,\n",
              "  'dayLow': 21.73,\n",
              "  'dividendRate': 1.49,\n",
              "  'dividendYield': 0.0694,\n",
              "  'exDividendDate': '2021-11-05 00:00:00',\n",
              "  'fiftyDayAverage': 21.7254,\n",
              "  'fiftyTwoWeekHigh': 27.12,\n",
              "  'fiftyTwoWeekLow': 20.02,\n",
              "  'fiveYearAvgDividendYield': 5.69,\n",
              "  'forwardPE': 11.693548,\n",
              "  'fromCurrency': None,\n",
              "  'lastMarket': None,\n",
              "  'marketCap': 79716573184,\n",
              "  'maxAge': 1,\n",
              "  'open': 21.85,\n",
              "  'payoutRatio': 0.64589995,\n",
              "  'previousClose': 21.48,\n",
              "  'priceHint': 2,\n",
              "  'priceToSalesTrailing12Months': 3.6547117,\n",
              "  'regularMarketDayHigh': 21.89,\n",
              "  'regularMarketDayLow': 21.73,\n",
              "  'regularMarketOpen': 21.85,\n",
              "  'regularMarketPreviousClose': 21.48,\n",
              "  'regularMarketVolume': 5579823,\n",
              "  'toCurrency': None,\n",
              "  'tradeable': False,\n",
              "  'trailingAnnualDividendRate': 1.18,\n",
              "  'trailingAnnualDividendYield': 0.054934822,\n",
              "  'trailingPE': 15.783744,\n",
              "  'twoHundredDayAverage': 24.64315,\n",
              "  'volume': 5579823}}"
            ]
          },
          "execution_count": 40,
          "metadata": {},
          "output_type": "execute_result"
        }
      ],
      "source": [
        "tickers.summary_detail"
      ]
    },
    {
      "cell_type": "code",
      "execution_count": null,
      "metadata": {
        "id": "FKqoeevVwEU_"
      },
      "outputs": [],
      "source": [
        "profile = tickers.asset_profile"
      ]
    },
    {
      "cell_type": "code",
      "execution_count": null,
      "metadata": {
        "colab": {
          "base_uri": "https://localhost:8080/",
          "height": 35
        },
        "id": "4YrZfA5-xAru",
        "outputId": "76e5e9a8-729d-4a33-938f-b107735fd4ae"
      },
      "outputs": [
        {
          "data": {
            "application/vnd.google.colaboratory.intrinsic+json": {
              "type": "string"
            },
            "text/plain": [
              "'https://www.commbank.com.au'"
            ]
          },
          "execution_count": 36,
          "metadata": {},
          "output_type": "execute_result"
        }
      ],
      "source": [
        "profile['CBA.AX']['website']"
      ]
    },
    {
      "cell_type": "code",
      "execution_count": null,
      "metadata": {
        "colab": {
          "base_uri": "https://localhost:8080/",
          "height": 35
        },
        "id": "92PPL9ZWxvZf",
        "outputId": "23e73e79-801b-452c-ff29-50281f246667"
      },
      "outputs": [
        {
          "data": {
            "application/vnd.google.colaboratory.intrinsic+json": {
              "type": "string"
            },
            "text/plain": [
              "'https://www.westpac.com.au'"
            ]
          },
          "execution_count": 37,
          "metadata": {},
          "output_type": "execute_result"
        }
      ],
      "source": [
        "profile['WBC.AX']['website']"
      ]
    },
    {
      "cell_type": "code",
      "execution_count": null,
      "metadata": {
        "id": "gJd4TqAwIzKY"
      },
      "outputs": [],
      "source": [
        "#price_data_df = tickers.history(period='1y', interval='1d')\n",
        "\n",
        "price_data_df = tickers.history(start=start_date, end=end_date)"
      ]
    },
    {
      "cell_type": "code",
      "execution_count": null,
      "metadata": {
        "colab": {
          "base_uri": "https://localhost:8080/"
        },
        "id": "Z3eBgv0FT2lR",
        "outputId": "ef7296d7-6e5a-4d8c-8a0a-08d46960faaa"
      },
      "outputs": [
        {
          "data": {
            "text/plain": [
              "FrozenList(['symbol', 'date'])"
            ]
          },
          "execution_count": 8,
          "metadata": {},
          "output_type": "execute_result"
        }
      ],
      "source": [
        "price_data_df.index.names"
      ]
    },
    {
      "cell_type": "code",
      "execution_count": null,
      "metadata": {
        "colab": {
          "base_uri": "https://localhost:8080/",
          "height": 238
        },
        "id": "Qwm8ZZWQI12y",
        "outputId": "046608f0-a16d-4da8-b515-9c6a9c75ca7b"
      },
      "outputs": [
        {
          "data": {
            "text/html": [
              "\n",
              "  <div id=\"df-54fa10eb-c2aa-4f64-b343-6f863c3277ad\">\n",
              "    <div class=\"colab-df-container\">\n",
              "      <div>\n",
              "<style scoped>\n",
              "    .dataframe tbody tr th:only-of-type {\n",
              "        vertical-align: middle;\n",
              "    }\n",
              "\n",
              "    .dataframe tbody tr th {\n",
              "        vertical-align: top;\n",
              "    }\n",
              "\n",
              "    .dataframe thead th {\n",
              "        text-align: right;\n",
              "    }\n",
              "</style>\n",
              "<table border=\"1\" class=\"dataframe\">\n",
              "  <thead>\n",
              "    <tr style=\"text-align: right;\">\n",
              "      <th></th>\n",
              "      <th></th>\n",
              "      <th>low</th>\n",
              "      <th>volume</th>\n",
              "      <th>high</th>\n",
              "      <th>close</th>\n",
              "      <th>open</th>\n",
              "      <th>adjclose</th>\n",
              "      <th>dividends</th>\n",
              "    </tr>\n",
              "    <tr>\n",
              "      <th>symbol</th>\n",
              "      <th>date</th>\n",
              "      <th></th>\n",
              "      <th></th>\n",
              "      <th></th>\n",
              "      <th></th>\n",
              "      <th></th>\n",
              "      <th></th>\n",
              "      <th></th>\n",
              "    </tr>\n",
              "  </thead>\n",
              "  <tbody>\n",
              "    <tr>\n",
              "      <th rowspan=\"5\" valign=\"top\">CBA.AX</th>\n",
              "      <th>2021-01-04</th>\n",
              "      <td>82.169998</td>\n",
              "      <td>1414844</td>\n",
              "      <td>83.919998</td>\n",
              "      <td>83.750000</td>\n",
              "      <td>82.230003</td>\n",
              "      <td>80.689362</td>\n",
              "      <td>0.0</td>\n",
              "    </tr>\n",
              "    <tr>\n",
              "      <th>2021-01-05</th>\n",
              "      <td>82.485001</td>\n",
              "      <td>1809541</td>\n",
              "      <td>83.260002</td>\n",
              "      <td>83.230003</td>\n",
              "      <td>83.000000</td>\n",
              "      <td>80.188377</td>\n",
              "      <td>0.0</td>\n",
              "    </tr>\n",
              "    <tr>\n",
              "      <th>2021-01-06</th>\n",
              "      <td>82.279999</td>\n",
              "      <td>2252786</td>\n",
              "      <td>83.349998</td>\n",
              "      <td>82.900002</td>\n",
              "      <td>82.690002</td>\n",
              "      <td>79.870430</td>\n",
              "      <td>0.0</td>\n",
              "    </tr>\n",
              "    <tr>\n",
              "      <th>2021-01-07</th>\n",
              "      <td>83.699997</td>\n",
              "      <td>3011086</td>\n",
              "      <td>85.180000</td>\n",
              "      <td>84.580002</td>\n",
              "      <td>84.379997</td>\n",
              "      <td>81.489044</td>\n",
              "      <td>0.0</td>\n",
              "    </tr>\n",
              "    <tr>\n",
              "      <th>2021-01-08</th>\n",
              "      <td>84.794998</td>\n",
              "      <td>2446079</td>\n",
              "      <td>85.629997</td>\n",
              "      <td>85.629997</td>\n",
              "      <td>84.989998</td>\n",
              "      <td>82.500656</td>\n",
              "      <td>0.0</td>\n",
              "    </tr>\n",
              "  </tbody>\n",
              "</table>\n",
              "</div>\n",
              "      <button class=\"colab-df-convert\" onclick=\"convertToInteractive('df-54fa10eb-c2aa-4f64-b343-6f863c3277ad')\"\n",
              "              title=\"Convert this dataframe to an interactive table.\"\n",
              "              style=\"display:none;\">\n",
              "        \n",
              "  <svg xmlns=\"http://www.w3.org/2000/svg\" height=\"24px\"viewBox=\"0 0 24 24\"\n",
              "       width=\"24px\">\n",
              "    <path d=\"M0 0h24v24H0V0z\" fill=\"none\"/>\n",
              "    <path d=\"M18.56 5.44l.94 2.06.94-2.06 2.06-.94-2.06-.94-.94-2.06-.94 2.06-2.06.94zm-11 1L8.5 8.5l.94-2.06 2.06-.94-2.06-.94L8.5 2.5l-.94 2.06-2.06.94zm10 10l.94 2.06.94-2.06 2.06-.94-2.06-.94-.94-2.06-.94 2.06-2.06.94z\"/><path d=\"M17.41 7.96l-1.37-1.37c-.4-.4-.92-.59-1.43-.59-.52 0-1.04.2-1.43.59L10.3 9.45l-7.72 7.72c-.78.78-.78 2.05 0 2.83L4 21.41c.39.39.9.59 1.41.59.51 0 1.02-.2 1.41-.59l7.78-7.78 2.81-2.81c.8-.78.8-2.07 0-2.86zM5.41 20L4 18.59l7.72-7.72 1.47 1.35L5.41 20z\"/>\n",
              "  </svg>\n",
              "      </button>\n",
              "      \n",
              "  <style>\n",
              "    .colab-df-container {\n",
              "      display:flex;\n",
              "      flex-wrap:wrap;\n",
              "      gap: 12px;\n",
              "    }\n",
              "\n",
              "    .colab-df-convert {\n",
              "      background-color: #E8F0FE;\n",
              "      border: none;\n",
              "      border-radius: 50%;\n",
              "      cursor: pointer;\n",
              "      display: none;\n",
              "      fill: #1967D2;\n",
              "      height: 32px;\n",
              "      padding: 0 0 0 0;\n",
              "      width: 32px;\n",
              "    }\n",
              "\n",
              "    .colab-df-convert:hover {\n",
              "      background-color: #E2EBFA;\n",
              "      box-shadow: 0px 1px 2px rgba(60, 64, 67, 0.3), 0px 1px 3px 1px rgba(60, 64, 67, 0.15);\n",
              "      fill: #174EA6;\n",
              "    }\n",
              "\n",
              "    [theme=dark] .colab-df-convert {\n",
              "      background-color: #3B4455;\n",
              "      fill: #D2E3FC;\n",
              "    }\n",
              "\n",
              "    [theme=dark] .colab-df-convert:hover {\n",
              "      background-color: #434B5C;\n",
              "      box-shadow: 0px 1px 3px 1px rgba(0, 0, 0, 0.15);\n",
              "      filter: drop-shadow(0px 1px 2px rgba(0, 0, 0, 0.3));\n",
              "      fill: #FFFFFF;\n",
              "    }\n",
              "  </style>\n",
              "\n",
              "      <script>\n",
              "        const buttonEl =\n",
              "          document.querySelector('#df-54fa10eb-c2aa-4f64-b343-6f863c3277ad button.colab-df-convert');\n",
              "        buttonEl.style.display =\n",
              "          google.colab.kernel.accessAllowed ? 'block' : 'none';\n",
              "\n",
              "        async function convertToInteractive(key) {\n",
              "          const element = document.querySelector('#df-54fa10eb-c2aa-4f64-b343-6f863c3277ad');\n",
              "          const dataTable =\n",
              "            await google.colab.kernel.invokeFunction('convertToInteractive',\n",
              "                                                     [key], {});\n",
              "          if (!dataTable) return;\n",
              "\n",
              "          const docLinkHtml = 'Like what you see? Visit the ' +\n",
              "            '<a target=\"_blank\" href=https://colab.research.google.com/notebooks/data_table.ipynb>data table notebook</a>'\n",
              "            + ' to learn more about interactive tables.';\n",
              "          element.innerHTML = '';\n",
              "          dataTable['output_type'] = 'display_data';\n",
              "          await google.colab.output.renderOutput(dataTable, element);\n",
              "          const docLink = document.createElement('div');\n",
              "          docLink.innerHTML = docLinkHtml;\n",
              "          element.appendChild(docLink);\n",
              "        }\n",
              "      </script>\n",
              "    </div>\n",
              "  </div>\n",
              "  "
            ],
            "text/plain": [
              "                         low   volume  ...   adjclose  dividends\n",
              "symbol date                            ...                      \n",
              "CBA.AX 2021-01-04  82.169998  1414844  ...  80.689362        0.0\n",
              "       2021-01-05  82.485001  1809541  ...  80.188377        0.0\n",
              "       2021-01-06  82.279999  2252786  ...  79.870430        0.0\n",
              "       2021-01-07  83.699997  3011086  ...  81.489044        0.0\n",
              "       2021-01-08  84.794998  2446079  ...  82.500656        0.0\n",
              "\n",
              "[5 rows x 7 columns]"
            ]
          },
          "execution_count": 9,
          "metadata": {},
          "output_type": "execute_result"
        }
      ],
      "source": [
        "price_data_df.head(5)"
      ]
    },
    {
      "cell_type": "code",
      "execution_count": null,
      "metadata": {
        "colab": {
          "base_uri": "https://localhost:8080/",
          "height": 300
        },
        "id": "G_jLp0XCJG8p",
        "outputId": "730485d6-00d9-48aa-e3bf-99a96a27afbb"
      },
      "outputs": [
        {
          "data": {
            "text/html": [
              "\n",
              "  <div id=\"df-68635b12-5517-4b95-b338-3630234e9170\">\n",
              "    <div class=\"colab-df-container\">\n",
              "      <div>\n",
              "<style scoped>\n",
              "    .dataframe tbody tr th:only-of-type {\n",
              "        vertical-align: middle;\n",
              "    }\n",
              "\n",
              "    .dataframe tbody tr th {\n",
              "        vertical-align: top;\n",
              "    }\n",
              "\n",
              "    .dataframe thead th {\n",
              "        text-align: right;\n",
              "    }\n",
              "</style>\n",
              "<table border=\"1\" class=\"dataframe\">\n",
              "  <thead>\n",
              "    <tr style=\"text-align: right;\">\n",
              "      <th></th>\n",
              "      <th>low</th>\n",
              "      <th>volume</th>\n",
              "      <th>high</th>\n",
              "      <th>close</th>\n",
              "      <th>open</th>\n",
              "      <th>adjclose</th>\n",
              "      <th>dividends</th>\n",
              "    </tr>\n",
              "  </thead>\n",
              "  <tbody>\n",
              "    <tr>\n",
              "      <th>count</th>\n",
              "      <td>508.000000</td>\n",
              "      <td>5.080000e+02</td>\n",
              "      <td>508.000000</td>\n",
              "      <td>508.000000</td>\n",
              "      <td>508.000000</td>\n",
              "      <td>508.000000</td>\n",
              "      <td>508.000000</td>\n",
              "    </tr>\n",
              "    <tr>\n",
              "      <th>mean</th>\n",
              "      <td>59.712756</td>\n",
              "      <td>4.616489e+06</td>\n",
              "      <td>60.560797</td>\n",
              "      <td>60.148799</td>\n",
              "      <td>60.141319</td>\n",
              "      <td>59.141570</td>\n",
              "      <td>0.009213</td>\n",
              "    </tr>\n",
              "    <tr>\n",
              "      <th>std</th>\n",
              "      <td>36.037041</td>\n",
              "      <td>3.421135e+06</td>\n",
              "      <td>36.570920</td>\n",
              "      <td>36.326418</td>\n",
              "      <td>36.306376</td>\n",
              "      <td>36.124073</td>\n",
              "      <td>0.116687</td>\n",
              "    </tr>\n",
              "    <tr>\n",
              "      <th>min</th>\n",
              "      <td>19.230000</td>\n",
              "      <td>8.881680e+05</td>\n",
              "      <td>19.500000</td>\n",
              "      <td>19.370001</td>\n",
              "      <td>19.450001</td>\n",
              "      <td>18.444370</td>\n",
              "      <td>0.000000</td>\n",
              "    </tr>\n",
              "    <tr>\n",
              "      <th>25%</th>\n",
              "      <td>24.915000</td>\n",
              "      <td>2.195772e+06</td>\n",
              "      <td>25.177500</td>\n",
              "      <td>25.020000</td>\n",
              "      <td>25.030001</td>\n",
              "      <td>24.098135</td>\n",
              "      <td>0.000000</td>\n",
              "    </tr>\n",
              "    <tr>\n",
              "      <th>50%</th>\n",
              "      <td>54.139998</td>\n",
              "      <td>3.895154e+06</td>\n",
              "      <td>54.835002</td>\n",
              "      <td>54.249999</td>\n",
              "      <td>54.350000</td>\n",
              "      <td>53.056852</td>\n",
              "      <td>0.000000</td>\n",
              "    </tr>\n",
              "    <tr>\n",
              "      <th>75%</th>\n",
              "      <td>98.037498</td>\n",
              "      <td>5.962633e+06</td>\n",
              "      <td>99.219997</td>\n",
              "      <td>98.627502</td>\n",
              "      <td>98.705002</td>\n",
              "      <td>97.241383</td>\n",
              "      <td>0.000000</td>\n",
              "    </tr>\n",
              "    <tr>\n",
              "      <th>max</th>\n",
              "      <td>109.269997</td>\n",
              "      <td>3.626238e+07</td>\n",
              "      <td>110.190002</td>\n",
              "      <td>110.129997</td>\n",
              "      <td>110.000000</td>\n",
              "      <td>110.129997</td>\n",
              "      <td>2.000000</td>\n",
              "    </tr>\n",
              "  </tbody>\n",
              "</table>\n",
              "</div>\n",
              "      <button class=\"colab-df-convert\" onclick=\"convertToInteractive('df-68635b12-5517-4b95-b338-3630234e9170')\"\n",
              "              title=\"Convert this dataframe to an interactive table.\"\n",
              "              style=\"display:none;\">\n",
              "        \n",
              "  <svg xmlns=\"http://www.w3.org/2000/svg\" height=\"24px\"viewBox=\"0 0 24 24\"\n",
              "       width=\"24px\">\n",
              "    <path d=\"M0 0h24v24H0V0z\" fill=\"none\"/>\n",
              "    <path d=\"M18.56 5.44l.94 2.06.94-2.06 2.06-.94-2.06-.94-.94-2.06-.94 2.06-2.06.94zm-11 1L8.5 8.5l.94-2.06 2.06-.94-2.06-.94L8.5 2.5l-.94 2.06-2.06.94zm10 10l.94 2.06.94-2.06 2.06-.94-2.06-.94-.94-2.06-.94 2.06-2.06.94z\"/><path d=\"M17.41 7.96l-1.37-1.37c-.4-.4-.92-.59-1.43-.59-.52 0-1.04.2-1.43.59L10.3 9.45l-7.72 7.72c-.78.78-.78 2.05 0 2.83L4 21.41c.39.39.9.59 1.41.59.51 0 1.02-.2 1.41-.59l7.78-7.78 2.81-2.81c.8-.78.8-2.07 0-2.86zM5.41 20L4 18.59l7.72-7.72 1.47 1.35L5.41 20z\"/>\n",
              "  </svg>\n",
              "      </button>\n",
              "      \n",
              "  <style>\n",
              "    .colab-df-container {\n",
              "      display:flex;\n",
              "      flex-wrap:wrap;\n",
              "      gap: 12px;\n",
              "    }\n",
              "\n",
              "    .colab-df-convert {\n",
              "      background-color: #E8F0FE;\n",
              "      border: none;\n",
              "      border-radius: 50%;\n",
              "      cursor: pointer;\n",
              "      display: none;\n",
              "      fill: #1967D2;\n",
              "      height: 32px;\n",
              "      padding: 0 0 0 0;\n",
              "      width: 32px;\n",
              "    }\n",
              "\n",
              "    .colab-df-convert:hover {\n",
              "      background-color: #E2EBFA;\n",
              "      box-shadow: 0px 1px 2px rgba(60, 64, 67, 0.3), 0px 1px 3px 1px rgba(60, 64, 67, 0.15);\n",
              "      fill: #174EA6;\n",
              "    }\n",
              "\n",
              "    [theme=dark] .colab-df-convert {\n",
              "      background-color: #3B4455;\n",
              "      fill: #D2E3FC;\n",
              "    }\n",
              "\n",
              "    [theme=dark] .colab-df-convert:hover {\n",
              "      background-color: #434B5C;\n",
              "      box-shadow: 0px 1px 3px 1px rgba(0, 0, 0, 0.15);\n",
              "      filter: drop-shadow(0px 1px 2px rgba(0, 0, 0, 0.3));\n",
              "      fill: #FFFFFF;\n",
              "    }\n",
              "  </style>\n",
              "\n",
              "      <script>\n",
              "        const buttonEl =\n",
              "          document.querySelector('#df-68635b12-5517-4b95-b338-3630234e9170 button.colab-df-convert');\n",
              "        buttonEl.style.display =\n",
              "          google.colab.kernel.accessAllowed ? 'block' : 'none';\n",
              "\n",
              "        async function convertToInteractive(key) {\n",
              "          const element = document.querySelector('#df-68635b12-5517-4b95-b338-3630234e9170');\n",
              "          const dataTable =\n",
              "            await google.colab.kernel.invokeFunction('convertToInteractive',\n",
              "                                                     [key], {});\n",
              "          if (!dataTable) return;\n",
              "\n",
              "          const docLinkHtml = 'Like what you see? Visit the ' +\n",
              "            '<a target=\"_blank\" href=https://colab.research.google.com/notebooks/data_table.ipynb>data table notebook</a>'\n",
              "            + ' to learn more about interactive tables.';\n",
              "          element.innerHTML = '';\n",
              "          dataTable['output_type'] = 'display_data';\n",
              "          await google.colab.output.renderOutput(dataTable, element);\n",
              "          const docLink = document.createElement('div');\n",
              "          docLink.innerHTML = docLinkHtml;\n",
              "          element.appendChild(docLink);\n",
              "        }\n",
              "      </script>\n",
              "    </div>\n",
              "  </div>\n",
              "  "
            ],
            "text/plain": [
              "              low        volume        high  ...        open    adjclose   dividends\n",
              "count  508.000000  5.080000e+02  508.000000  ...  508.000000  508.000000  508.000000\n",
              "mean    59.712756  4.616489e+06   60.560797  ...   60.141319   59.141570    0.009213\n",
              "std     36.037041  3.421135e+06   36.570920  ...   36.306376   36.124073    0.116687\n",
              "min     19.230000  8.881680e+05   19.500000  ...   19.450001   18.444370    0.000000\n",
              "25%     24.915000  2.195772e+06   25.177500  ...   25.030001   24.098135    0.000000\n",
              "50%     54.139998  3.895154e+06   54.835002  ...   54.350000   53.056852    0.000000\n",
              "75%     98.037498  5.962633e+06   99.219997  ...   98.705002   97.241383    0.000000\n",
              "max    109.269997  3.626238e+07  110.190002  ...  110.000000  110.129997    2.000000\n",
              "\n",
              "[8 rows x 7 columns]"
            ]
          },
          "execution_count": 10,
          "metadata": {},
          "output_type": "execute_result"
        }
      ],
      "source": [
        "price_data_df.describe()"
      ]
    },
    {
      "cell_type": "code",
      "execution_count": null,
      "metadata": {
        "id": "mmV-1B1-S95b"
      },
      "outputs": [],
      "source": [
        "price_data_df.reset_index(inplace=True)"
      ]
    },
    {
      "cell_type": "code",
      "execution_count": null,
      "metadata": {
        "colab": {
          "base_uri": "https://localhost:8080/"
        },
        "id": "x5vOn5gSUHey",
        "outputId": "76902374-0c35-4617-c46b-0b76ccade086"
      },
      "outputs": [
        {
          "data": {
            "text/plain": [
              "symbol        object\n",
              "date          object\n",
              "low          float64\n",
              "volume         int64\n",
              "high         float64\n",
              "close        float64\n",
              "open         float64\n",
              "adjclose     float64\n",
              "dividends    float64\n",
              "dtype: object"
            ]
          },
          "execution_count": 12,
          "metadata": {},
          "output_type": "execute_result"
        }
      ],
      "source": [
        "price_data_df.dtypes"
      ]
    },
    {
      "cell_type": "code",
      "execution_count": null,
      "metadata": {
        "colab": {
          "base_uri": "https://localhost:8080/",
          "height": 206
        },
        "id": "zwyNXIg3U97b",
        "outputId": "d74a7f43-3280-4c83-a3e6-05b99bc5b34c"
      },
      "outputs": [
        {
          "data": {
            "text/html": [
              "\n",
              "  <div id=\"df-eb34f864-cc09-4128-ab58-ed1ad6556e0a\">\n",
              "    <div class=\"colab-df-container\">\n",
              "      <div>\n",
              "<style scoped>\n",
              "    .dataframe tbody tr th:only-of-type {\n",
              "        vertical-align: middle;\n",
              "    }\n",
              "\n",
              "    .dataframe tbody tr th {\n",
              "        vertical-align: top;\n",
              "    }\n",
              "\n",
              "    .dataframe thead th {\n",
              "        text-align: right;\n",
              "    }\n",
              "</style>\n",
              "<table border=\"1\" class=\"dataframe\">\n",
              "  <thead>\n",
              "    <tr style=\"text-align: right;\">\n",
              "      <th></th>\n",
              "      <th>symbol</th>\n",
              "      <th>date</th>\n",
              "      <th>low</th>\n",
              "      <th>volume</th>\n",
              "      <th>high</th>\n",
              "      <th>close</th>\n",
              "      <th>open</th>\n",
              "      <th>adjclose</th>\n",
              "      <th>dividends</th>\n",
              "    </tr>\n",
              "  </thead>\n",
              "  <tbody>\n",
              "    <tr>\n",
              "      <th>0</th>\n",
              "      <td>CBA.AX</td>\n",
              "      <td>2021-01-04</td>\n",
              "      <td>82.169998</td>\n",
              "      <td>1414844</td>\n",
              "      <td>83.919998</td>\n",
              "      <td>83.750000</td>\n",
              "      <td>82.230003</td>\n",
              "      <td>80.689362</td>\n",
              "      <td>0.0</td>\n",
              "    </tr>\n",
              "    <tr>\n",
              "      <th>1</th>\n",
              "      <td>CBA.AX</td>\n",
              "      <td>2021-01-05</td>\n",
              "      <td>82.485001</td>\n",
              "      <td>1809541</td>\n",
              "      <td>83.260002</td>\n",
              "      <td>83.230003</td>\n",
              "      <td>83.000000</td>\n",
              "      <td>80.188377</td>\n",
              "      <td>0.0</td>\n",
              "    </tr>\n",
              "    <tr>\n",
              "      <th>2</th>\n",
              "      <td>CBA.AX</td>\n",
              "      <td>2021-01-06</td>\n",
              "      <td>82.279999</td>\n",
              "      <td>2252786</td>\n",
              "      <td>83.349998</td>\n",
              "      <td>82.900002</td>\n",
              "      <td>82.690002</td>\n",
              "      <td>79.870430</td>\n",
              "      <td>0.0</td>\n",
              "    </tr>\n",
              "    <tr>\n",
              "      <th>3</th>\n",
              "      <td>CBA.AX</td>\n",
              "      <td>2021-01-07</td>\n",
              "      <td>83.699997</td>\n",
              "      <td>3011086</td>\n",
              "      <td>85.180000</td>\n",
              "      <td>84.580002</td>\n",
              "      <td>84.379997</td>\n",
              "      <td>81.489044</td>\n",
              "      <td>0.0</td>\n",
              "    </tr>\n",
              "    <tr>\n",
              "      <th>4</th>\n",
              "      <td>CBA.AX</td>\n",
              "      <td>2021-01-08</td>\n",
              "      <td>84.794998</td>\n",
              "      <td>2446079</td>\n",
              "      <td>85.629997</td>\n",
              "      <td>85.629997</td>\n",
              "      <td>84.989998</td>\n",
              "      <td>82.500656</td>\n",
              "      <td>0.0</td>\n",
              "    </tr>\n",
              "  </tbody>\n",
              "</table>\n",
              "</div>\n",
              "      <button class=\"colab-df-convert\" onclick=\"convertToInteractive('df-eb34f864-cc09-4128-ab58-ed1ad6556e0a')\"\n",
              "              title=\"Convert this dataframe to an interactive table.\"\n",
              "              style=\"display:none;\">\n",
              "        \n",
              "  <svg xmlns=\"http://www.w3.org/2000/svg\" height=\"24px\"viewBox=\"0 0 24 24\"\n",
              "       width=\"24px\">\n",
              "    <path d=\"M0 0h24v24H0V0z\" fill=\"none\"/>\n",
              "    <path d=\"M18.56 5.44l.94 2.06.94-2.06 2.06-.94-2.06-.94-.94-2.06-.94 2.06-2.06.94zm-11 1L8.5 8.5l.94-2.06 2.06-.94-2.06-.94L8.5 2.5l-.94 2.06-2.06.94zm10 10l.94 2.06.94-2.06 2.06-.94-2.06-.94-.94-2.06-.94 2.06-2.06.94z\"/><path d=\"M17.41 7.96l-1.37-1.37c-.4-.4-.92-.59-1.43-.59-.52 0-1.04.2-1.43.59L10.3 9.45l-7.72 7.72c-.78.78-.78 2.05 0 2.83L4 21.41c.39.39.9.59 1.41.59.51 0 1.02-.2 1.41-.59l7.78-7.78 2.81-2.81c.8-.78.8-2.07 0-2.86zM5.41 20L4 18.59l7.72-7.72 1.47 1.35L5.41 20z\"/>\n",
              "  </svg>\n",
              "      </button>\n",
              "      \n",
              "  <style>\n",
              "    .colab-df-container {\n",
              "      display:flex;\n",
              "      flex-wrap:wrap;\n",
              "      gap: 12px;\n",
              "    }\n",
              "\n",
              "    .colab-df-convert {\n",
              "      background-color: #E8F0FE;\n",
              "      border: none;\n",
              "      border-radius: 50%;\n",
              "      cursor: pointer;\n",
              "      display: none;\n",
              "      fill: #1967D2;\n",
              "      height: 32px;\n",
              "      padding: 0 0 0 0;\n",
              "      width: 32px;\n",
              "    }\n",
              "\n",
              "    .colab-df-convert:hover {\n",
              "      background-color: #E2EBFA;\n",
              "      box-shadow: 0px 1px 2px rgba(60, 64, 67, 0.3), 0px 1px 3px 1px rgba(60, 64, 67, 0.15);\n",
              "      fill: #174EA6;\n",
              "    }\n",
              "\n",
              "    [theme=dark] .colab-df-convert {\n",
              "      background-color: #3B4455;\n",
              "      fill: #D2E3FC;\n",
              "    }\n",
              "\n",
              "    [theme=dark] .colab-df-convert:hover {\n",
              "      background-color: #434B5C;\n",
              "      box-shadow: 0px 1px 3px 1px rgba(0, 0, 0, 0.15);\n",
              "      filter: drop-shadow(0px 1px 2px rgba(0, 0, 0, 0.3));\n",
              "      fill: #FFFFFF;\n",
              "    }\n",
              "  </style>\n",
              "\n",
              "      <script>\n",
              "        const buttonEl =\n",
              "          document.querySelector('#df-eb34f864-cc09-4128-ab58-ed1ad6556e0a button.colab-df-convert');\n",
              "        buttonEl.style.display =\n",
              "          google.colab.kernel.accessAllowed ? 'block' : 'none';\n",
              "\n",
              "        async function convertToInteractive(key) {\n",
              "          const element = document.querySelector('#df-eb34f864-cc09-4128-ab58-ed1ad6556e0a');\n",
              "          const dataTable =\n",
              "            await google.colab.kernel.invokeFunction('convertToInteractive',\n",
              "                                                     [key], {});\n",
              "          if (!dataTable) return;\n",
              "\n",
              "          const docLinkHtml = 'Like what you see? Visit the ' +\n",
              "            '<a target=\"_blank\" href=https://colab.research.google.com/notebooks/data_table.ipynb>data table notebook</a>'\n",
              "            + ' to learn more about interactive tables.';\n",
              "          element.innerHTML = '';\n",
              "          dataTable['output_type'] = 'display_data';\n",
              "          await google.colab.output.renderOutput(dataTable, element);\n",
              "          const docLink = document.createElement('div');\n",
              "          docLink.innerHTML = docLinkHtml;\n",
              "          element.appendChild(docLink);\n",
              "        }\n",
              "      </script>\n",
              "    </div>\n",
              "  </div>\n",
              "  "
            ],
            "text/plain": [
              "   symbol        date        low  ...       open   adjclose  dividends\n",
              "0  CBA.AX  2021-01-04  82.169998  ...  82.230003  80.689362        0.0\n",
              "1  CBA.AX  2021-01-05  82.485001  ...  83.000000  80.188377        0.0\n",
              "2  CBA.AX  2021-01-06  82.279999  ...  82.690002  79.870430        0.0\n",
              "3  CBA.AX  2021-01-07  83.699997  ...  84.379997  81.489044        0.0\n",
              "4  CBA.AX  2021-01-08  84.794998  ...  84.989998  82.500656        0.0\n",
              "\n",
              "[5 rows x 9 columns]"
            ]
          },
          "execution_count": 13,
          "metadata": {},
          "output_type": "execute_result"
        }
      ],
      "source": [
        "price_data_df.head()"
      ]
    },
    {
      "cell_type": "code",
      "execution_count": null,
      "metadata": {
        "colab": {
          "base_uri": "https://localhost:8080/"
        },
        "id": "-9hidbHJYfDQ",
        "outputId": "9c0857c7-1e63-453f-c885-f2631a5fee0a"
      },
      "outputs": [
        {
          "data": {
            "text/plain": [
              "508"
            ]
          },
          "execution_count": 14,
          "metadata": {},
          "output_type": "execute_result"
        }
      ],
      "source": [
        "len(price_data_df)"
      ]
    },
    {
      "cell_type": "code",
      "execution_count": null,
      "metadata": {
        "colab": {
          "base_uri": "https://localhost:8080/"
        },
        "id": "rX1Pnz3WN-q1",
        "outputId": "da619cb9-b2de-4c55-a054-ce549ffc6d3e"
      },
      "outputs": [
        {
          "data": {
            "text/plain": [
              "datetime.date(2021, 1, 4)"
            ]
          },
          "execution_count": 21,
          "metadata": {},
          "output_type": "execute_result"
        }
      ],
      "source": [
        "price_data_df['date'][0]"
      ]
    },
    {
      "cell_type": "code",
      "execution_count": null,
      "metadata": {
        "id": "UYedHRwXXZgc"
      },
      "outputs": [],
      "source": [
        "price_data_df[\"date\"] = pd.to_datetime(price_data_df[\"date\"])"
      ]
    },
    {
      "cell_type": "code",
      "execution_count": null,
      "metadata": {
        "id": "PYAKj_6CXxIs"
      },
      "outputs": [],
      "source": [
        "chart_ticker = \"WBC.AX\""
      ]
    },
    {
      "cell_type": "code",
      "execution_count": null,
      "metadata": {
        "id": "tXBr__EXYv9g"
      },
      "outputs": [],
      "source": [
        "chart_data_df = price_data_df[price_data_df[\"symbol\"] == chart_ticker]"
      ]
    },
    {
      "cell_type": "code",
      "execution_count": null,
      "metadata": {
        "colab": {
          "base_uri": "https://localhost:8080/",
          "height": 424
        },
        "id": "3G9UE4FAY6m0",
        "outputId": "adf913c3-3c76-424f-b2a1-824d1a51d524"
      },
      "outputs": [
        {
          "data": {
            "text/html": [
              "\n",
              "  <div id=\"df-6740804c-3bb6-41e5-a893-12404a5447ad\">\n",
              "    <div class=\"colab-df-container\">\n",
              "      <div>\n",
              "<style scoped>\n",
              "    .dataframe tbody tr th:only-of-type {\n",
              "        vertical-align: middle;\n",
              "    }\n",
              "\n",
              "    .dataframe tbody tr th {\n",
              "        vertical-align: top;\n",
              "    }\n",
              "\n",
              "    .dataframe thead th {\n",
              "        text-align: right;\n",
              "    }\n",
              "</style>\n",
              "<table border=\"1\" class=\"dataframe\">\n",
              "  <thead>\n",
              "    <tr style=\"text-align: right;\">\n",
              "      <th></th>\n",
              "      <th>symbol</th>\n",
              "      <th>date</th>\n",
              "      <th>low</th>\n",
              "      <th>volume</th>\n",
              "      <th>high</th>\n",
              "      <th>close</th>\n",
              "      <th>open</th>\n",
              "      <th>adjclose</th>\n",
              "      <th>dividends</th>\n",
              "    </tr>\n",
              "  </thead>\n",
              "  <tbody>\n",
              "    <tr>\n",
              "      <th>254</th>\n",
              "      <td>WBC.AX</td>\n",
              "      <td>2021-01-04</td>\n",
              "      <td>19.424999</td>\n",
              "      <td>4044153</td>\n",
              "      <td>19.670000</td>\n",
              "      <td>19.629999</td>\n",
              "      <td>19.459999</td>\n",
              "      <td>18.691944</td>\n",
              "      <td>0.0</td>\n",
              "    </tr>\n",
              "    <tr>\n",
              "      <th>255</th>\n",
              "      <td>WBC.AX</td>\n",
              "      <td>2021-01-05</td>\n",
              "      <td>19.379999</td>\n",
              "      <td>4944351</td>\n",
              "      <td>19.530001</td>\n",
              "      <td>19.520000</td>\n",
              "      <td>19.469999</td>\n",
              "      <td>18.587202</td>\n",
              "      <td>0.0</td>\n",
              "    </tr>\n",
              "    <tr>\n",
              "      <th>256</th>\n",
              "      <td>WBC.AX</td>\n",
              "      <td>2021-01-06</td>\n",
              "      <td>19.230000</td>\n",
              "      <td>7063517</td>\n",
              "      <td>19.500000</td>\n",
              "      <td>19.370001</td>\n",
              "      <td>19.450001</td>\n",
              "      <td>18.444370</td>\n",
              "      <td>0.0</td>\n",
              "    </tr>\n",
              "    <tr>\n",
              "      <th>257</th>\n",
              "      <td>WBC.AX</td>\n",
              "      <td>2021-01-07</td>\n",
              "      <td>19.780001</td>\n",
              "      <td>14348410</td>\n",
              "      <td>20.340000</td>\n",
              "      <td>19.990000</td>\n",
              "      <td>19.799999</td>\n",
              "      <td>19.034740</td>\n",
              "      <td>0.0</td>\n",
              "    </tr>\n",
              "    <tr>\n",
              "      <th>258</th>\n",
              "      <td>WBC.AX</td>\n",
              "      <td>2021-01-08</td>\n",
              "      <td>20.020000</td>\n",
              "      <td>7716248</td>\n",
              "      <td>20.280001</td>\n",
              "      <td>20.280001</td>\n",
              "      <td>20.110001</td>\n",
              "      <td>19.310884</td>\n",
              "      <td>0.0</td>\n",
              "    </tr>\n",
              "    <tr>\n",
              "      <th>...</th>\n",
              "      <td>...</td>\n",
              "      <td>...</td>\n",
              "      <td>...</td>\n",
              "      <td>...</td>\n",
              "      <td>...</td>\n",
              "      <td>...</td>\n",
              "      <td>...</td>\n",
              "      <td>...</td>\n",
              "      <td>...</td>\n",
              "    </tr>\n",
              "    <tr>\n",
              "      <th>503</th>\n",
              "      <td>WBC.AX</td>\n",
              "      <td>2021-12-23</td>\n",
              "      <td>21.040001</td>\n",
              "      <td>4359824</td>\n",
              "      <td>21.180000</td>\n",
              "      <td>21.180000</td>\n",
              "      <td>21.129999</td>\n",
              "      <td>21.180000</td>\n",
              "      <td>0.0</td>\n",
              "    </tr>\n",
              "    <tr>\n",
              "      <th>504</th>\n",
              "      <td>WBC.AX</td>\n",
              "      <td>2021-12-24</td>\n",
              "      <td>21.200001</td>\n",
              "      <td>3039364</td>\n",
              "      <td>21.450001</td>\n",
              "      <td>21.200001</td>\n",
              "      <td>21.260000</td>\n",
              "      <td>21.200001</td>\n",
              "      <td>0.0</td>\n",
              "    </tr>\n",
              "    <tr>\n",
              "      <th>505</th>\n",
              "      <td>WBC.AX</td>\n",
              "      <td>2021-12-29</td>\n",
              "      <td>21.400000</td>\n",
              "      <td>9676188</td>\n",
              "      <td>21.650000</td>\n",
              "      <td>21.459999</td>\n",
              "      <td>21.450001</td>\n",
              "      <td>21.459999</td>\n",
              "      <td>0.0</td>\n",
              "    </tr>\n",
              "    <tr>\n",
              "      <th>506</th>\n",
              "      <td>WBC.AX</td>\n",
              "      <td>2021-12-30</td>\n",
              "      <td>21.480000</td>\n",
              "      <td>4635337</td>\n",
              "      <td>21.600000</td>\n",
              "      <td>21.500000</td>\n",
              "      <td>21.510000</td>\n",
              "      <td>21.500000</td>\n",
              "      <td>0.0</td>\n",
              "    </tr>\n",
              "    <tr>\n",
              "      <th>507</th>\n",
              "      <td>WBC.AX</td>\n",
              "      <td>2021-12-31</td>\n",
              "      <td>21.320000</td>\n",
              "      <td>3046280</td>\n",
              "      <td>21.530001</td>\n",
              "      <td>21.350000</td>\n",
              "      <td>21.500000</td>\n",
              "      <td>21.350000</td>\n",
              "      <td>0.0</td>\n",
              "    </tr>\n",
              "  </tbody>\n",
              "</table>\n",
              "<p>254 rows × 9 columns</p>\n",
              "</div>\n",
              "      <button class=\"colab-df-convert\" onclick=\"convertToInteractive('df-6740804c-3bb6-41e5-a893-12404a5447ad')\"\n",
              "              title=\"Convert this dataframe to an interactive table.\"\n",
              "              style=\"display:none;\">\n",
              "        \n",
              "  <svg xmlns=\"http://www.w3.org/2000/svg\" height=\"24px\"viewBox=\"0 0 24 24\"\n",
              "       width=\"24px\">\n",
              "    <path d=\"M0 0h24v24H0V0z\" fill=\"none\"/>\n",
              "    <path d=\"M18.56 5.44l.94 2.06.94-2.06 2.06-.94-2.06-.94-.94-2.06-.94 2.06-2.06.94zm-11 1L8.5 8.5l.94-2.06 2.06-.94-2.06-.94L8.5 2.5l-.94 2.06-2.06.94zm10 10l.94 2.06.94-2.06 2.06-.94-2.06-.94-.94-2.06-.94 2.06-2.06.94z\"/><path d=\"M17.41 7.96l-1.37-1.37c-.4-.4-.92-.59-1.43-.59-.52 0-1.04.2-1.43.59L10.3 9.45l-7.72 7.72c-.78.78-.78 2.05 0 2.83L4 21.41c.39.39.9.59 1.41.59.51 0 1.02-.2 1.41-.59l7.78-7.78 2.81-2.81c.8-.78.8-2.07 0-2.86zM5.41 20L4 18.59l7.72-7.72 1.47 1.35L5.41 20z\"/>\n",
              "  </svg>\n",
              "      </button>\n",
              "      \n",
              "  <style>\n",
              "    .colab-df-container {\n",
              "      display:flex;\n",
              "      flex-wrap:wrap;\n",
              "      gap: 12px;\n",
              "    }\n",
              "\n",
              "    .colab-df-convert {\n",
              "      background-color: #E8F0FE;\n",
              "      border: none;\n",
              "      border-radius: 50%;\n",
              "      cursor: pointer;\n",
              "      display: none;\n",
              "      fill: #1967D2;\n",
              "      height: 32px;\n",
              "      padding: 0 0 0 0;\n",
              "      width: 32px;\n",
              "    }\n",
              "\n",
              "    .colab-df-convert:hover {\n",
              "      background-color: #E2EBFA;\n",
              "      box-shadow: 0px 1px 2px rgba(60, 64, 67, 0.3), 0px 1px 3px 1px rgba(60, 64, 67, 0.15);\n",
              "      fill: #174EA6;\n",
              "    }\n",
              "\n",
              "    [theme=dark] .colab-df-convert {\n",
              "      background-color: #3B4455;\n",
              "      fill: #D2E3FC;\n",
              "    }\n",
              "\n",
              "    [theme=dark] .colab-df-convert:hover {\n",
              "      background-color: #434B5C;\n",
              "      box-shadow: 0px 1px 3px 1px rgba(0, 0, 0, 0.15);\n",
              "      filter: drop-shadow(0px 1px 2px rgba(0, 0, 0, 0.3));\n",
              "      fill: #FFFFFF;\n",
              "    }\n",
              "  </style>\n",
              "\n",
              "      <script>\n",
              "        const buttonEl =\n",
              "          document.querySelector('#df-6740804c-3bb6-41e5-a893-12404a5447ad button.colab-df-convert');\n",
              "        buttonEl.style.display =\n",
              "          google.colab.kernel.accessAllowed ? 'block' : 'none';\n",
              "\n",
              "        async function convertToInteractive(key) {\n",
              "          const element = document.querySelector('#df-6740804c-3bb6-41e5-a893-12404a5447ad');\n",
              "          const dataTable =\n",
              "            await google.colab.kernel.invokeFunction('convertToInteractive',\n",
              "                                                     [key], {});\n",
              "          if (!dataTable) return;\n",
              "\n",
              "          const docLinkHtml = 'Like what you see? Visit the ' +\n",
              "            '<a target=\"_blank\" href=https://colab.research.google.com/notebooks/data_table.ipynb>data table notebook</a>'\n",
              "            + ' to learn more about interactive tables.';\n",
              "          element.innerHTML = '';\n",
              "          dataTable['output_type'] = 'display_data';\n",
              "          await google.colab.output.renderOutput(dataTable, element);\n",
              "          const docLink = document.createElement('div');\n",
              "          docLink.innerHTML = docLinkHtml;\n",
              "          element.appendChild(docLink);\n",
              "        }\n",
              "      </script>\n",
              "    </div>\n",
              "  </div>\n",
              "  "
            ],
            "text/plain": [
              "     symbol       date        low  ...       open   adjclose  dividends\n",
              "254  WBC.AX 2021-01-04  19.424999  ...  19.459999  18.691944        0.0\n",
              "255  WBC.AX 2021-01-05  19.379999  ...  19.469999  18.587202        0.0\n",
              "256  WBC.AX 2021-01-06  19.230000  ...  19.450001  18.444370        0.0\n",
              "257  WBC.AX 2021-01-07  19.780001  ...  19.799999  19.034740        0.0\n",
              "258  WBC.AX 2021-01-08  20.020000  ...  20.110001  19.310884        0.0\n",
              "..      ...        ...        ...  ...        ...        ...        ...\n",
              "503  WBC.AX 2021-12-23  21.040001  ...  21.129999  21.180000        0.0\n",
              "504  WBC.AX 2021-12-24  21.200001  ...  21.260000  21.200001        0.0\n",
              "505  WBC.AX 2021-12-29  21.400000  ...  21.450001  21.459999        0.0\n",
              "506  WBC.AX 2021-12-30  21.480000  ...  21.510000  21.500000        0.0\n",
              "507  WBC.AX 2021-12-31  21.320000  ...  21.500000  21.350000        0.0\n",
              "\n",
              "[254 rows x 9 columns]"
            ]
          },
          "execution_count": 20,
          "metadata": {},
          "output_type": "execute_result"
        }
      ],
      "source": [
        "chart_data_df"
      ]
    },
    {
      "cell_type": "code",
      "execution_count": null,
      "metadata": {
        "id": "_ZV3DjsMLLyc"
      },
      "outputs": [],
      "source": [
        "c = alt.Chart(chart_data_df).mark_circle().encode(x='date', y='adjclose')"
      ]
    },
    {
      "cell_type": "code",
      "execution_count": null,
      "metadata": {
        "colab": {
          "base_uri": "https://localhost:8080/",
          "height": 363
        },
        "id": "ZpthoMBnSkRQ",
        "outputId": "be4e8d17-4c0e-4e6d-93d7-e4e69e099f16"
      },
      "outputs": [
        {
          "data": {
            "text/html": [
              "\n",
              "<div id=\"altair-viz-85062b6211934f5281874e9adfb723e2\"></div>\n",
              "<script type=\"text/javascript\">\n",
              "  (function(spec, embedOpt){\n",
              "    let outputDiv = document.currentScript.previousElementSibling;\n",
              "    if (outputDiv.id !== \"altair-viz-85062b6211934f5281874e9adfb723e2\") {\n",
              "      outputDiv = document.getElementById(\"altair-viz-85062b6211934f5281874e9adfb723e2\");\n",
              "    }\n",
              "    const paths = {\n",
              "      \"vega\": \"https://cdn.jsdelivr.net/npm//vega@5?noext\",\n",
              "      \"vega-lib\": \"https://cdn.jsdelivr.net/npm//vega-lib?noext\",\n",
              "      \"vega-lite\": \"https://cdn.jsdelivr.net/npm//vega-lite@4.8.1?noext\",\n",
              "      \"vega-embed\": \"https://cdn.jsdelivr.net/npm//vega-embed@6?noext\",\n",
              "    };\n",
              "\n",
              "    function loadScript(lib) {\n",
              "      return new Promise(function(resolve, reject) {\n",
              "        var s = document.createElement('script');\n",
              "        s.src = paths[lib];\n",
              "        s.async = true;\n",
              "        s.onload = () => resolve(paths[lib]);\n",
              "        s.onerror = () => reject(`Error loading script: ${paths[lib]}`);\n",
              "        document.getElementsByTagName(\"head\")[0].appendChild(s);\n",
              "      });\n",
              "    }\n",
              "\n",
              "    function showError(err) {\n",
              "      outputDiv.innerHTML = `<div class=\"error\" style=\"color:red;\">${err}</div>`;\n",
              "      throw err;\n",
              "    }\n",
              "\n",
              "    function displayChart(vegaEmbed) {\n",
              "      vegaEmbed(outputDiv, spec, embedOpt)\n",
              "        .catch(err => showError(`Javascript Error: ${err.message}<br>This usually means there's a typo in your chart specification. See the javascript console for the full traceback.`));\n",
              "    }\n",
              "\n",
              "    if(typeof define === \"function\" && define.amd) {\n",
              "      requirejs.config({paths});\n",
              "      require([\"vega-embed\"], displayChart, err => showError(`Error loading script: ${err.message}`));\n",
              "    } else if (typeof vegaEmbed === \"function\") {\n",
              "      displayChart(vegaEmbed);\n",
              "    } else {\n",
              "      loadScript(\"vega\")\n",
              "        .then(() => loadScript(\"vega-lite\"))\n",
              "        .then(() => loadScript(\"vega-embed\"))\n",
              "        .catch(showError)\n",
              "        .then(() => displayChart(vegaEmbed));\n",
              "    }\n",
              "  })({\"config\": {\"view\": {\"continuousWidth\": 400, \"continuousHeight\": 300}}, \"data\": {\"name\": \"data-0b7e4123b36d51f5b259bf42de502bea\"}, \"mark\": \"circle\", \"encoding\": {\"x\": {\"type\": \"temporal\", \"field\": \"date\"}, \"y\": {\"type\": \"quantitative\", \"field\": \"adjclose\"}}, \"$schema\": \"https://vega.github.io/schema/vega-lite/v4.8.1.json\", \"datasets\": {\"data-0b7e4123b36d51f5b259bf42de502bea\": [{\"symbol\": \"WBC.AX\", \"date\": \"2021-01-04T00:00:00\", \"low\": 19.424999237060547, \"volume\": 4044153, \"high\": 19.670000076293945, \"close\": 19.6299991607666, \"open\": 19.459999084472656, \"adjclose\": 18.691944122314453, \"dividends\": 0.0}, {\"symbol\": \"WBC.AX\", \"date\": \"2021-01-05T00:00:00\", \"low\": 19.3799991607666, \"volume\": 4944351, \"high\": 19.530000686645508, \"close\": 19.520000457763672, \"open\": 19.469999313354492, \"adjclose\": 18.587202072143555, \"dividends\": 0.0}, {\"symbol\": \"WBC.AX\", \"date\": \"2021-01-06T00:00:00\", \"low\": 19.229999542236328, \"volume\": 7063517, \"high\": 19.5, \"close\": 19.3700008392334, \"open\": 19.450000762939453, \"adjclose\": 18.44437026977539, \"dividends\": 0.0}, {\"symbol\": \"WBC.AX\", \"date\": \"2021-01-07T00:00:00\", \"low\": 19.780000686645508, \"volume\": 14348410, \"high\": 20.34000015258789, \"close\": 19.989999771118164, \"open\": 19.799999237060547, \"adjclose\": 19.034740447998047, \"dividends\": 0.0}, {\"symbol\": \"WBC.AX\", \"date\": \"2021-01-08T00:00:00\", \"low\": 20.020000457763672, \"volume\": 7716248, \"high\": 20.280000686645508, \"close\": 20.280000686645508, \"open\": 20.110000610351562, \"adjclose\": 19.310884475708008, \"dividends\": 0.0}, {\"symbol\": \"WBC.AX\", \"date\": \"2021-01-11T00:00:00\", \"low\": 20.200000762939453, \"volume\": 4513238, \"high\": 20.329999923706055, \"close\": 20.290000915527344, \"open\": 20.229999542236328, \"adjclose\": 19.320405960083008, \"dividends\": 0.0}, {\"symbol\": \"WBC.AX\", \"date\": \"2021-01-12T00:00:00\", \"low\": 20.280000686645508, \"volume\": 8262523, \"high\": 20.6299991607666, \"close\": 20.489999771118164, \"open\": 20.309999465942383, \"adjclose\": 19.510847091674805, \"dividends\": 0.0}, {\"symbol\": \"WBC.AX\", \"date\": \"2021-01-13T00:00:00\", \"low\": 20.420000076293945, \"volume\": 6166289, \"high\": 20.68000030517578, \"close\": 20.600000381469727, \"open\": 20.420000076293945, \"adjclose\": 19.615591049194336, \"dividends\": 0.0}, {\"symbol\": \"WBC.AX\", \"date\": \"2021-01-14T00:00:00\", \"low\": 20.68000030517578, \"volume\": 10347252, \"high\": 21.190000534057617, \"close\": 21.030000686645508, \"open\": 20.700000762939453, \"adjclose\": 20.025043487548828, \"dividends\": 0.0}, {\"symbol\": \"WBC.AX\", \"date\": \"2021-01-15T00:00:00\", \"low\": 21.149999618530273, \"volume\": 9396993, \"high\": 21.59000015258789, \"close\": 21.350000381469727, \"open\": 21.200000762939453, \"adjclose\": 20.32975196838379, \"dividends\": 0.0}, {\"symbol\": \"WBC.AX\", \"date\": \"2021-01-18T00:00:00\", \"low\": 21.100000381469727, \"volume\": 5983851, \"high\": 21.3700008392334, \"close\": 21.190000534057617, \"open\": 21.360000610351562, \"adjclose\": 20.177396774291992, \"dividends\": 0.0}, {\"symbol\": \"WBC.AX\", \"date\": \"2021-01-19T00:00:00\", \"low\": 21.40999984741211, \"volume\": 8246543, \"high\": 21.780000686645508, \"close\": 21.600000381469727, \"open\": 21.450000762939453, \"adjclose\": 20.56780433654785, \"dividends\": 0.0}, {\"symbol\": \"WBC.AX\", \"date\": \"2021-01-20T00:00:00\", \"low\": 21.575000762939453, \"volume\": 5907172, \"high\": 21.850000381469727, \"close\": 21.579999923706055, \"open\": 21.760000228881836, \"adjclose\": 20.54875946044922, \"dividends\": 0.0}, {\"symbol\": \"WBC.AX\", \"date\": \"2021-01-21T00:00:00\", \"low\": 21.790000915527344, \"volume\": 6164314, \"high\": 21.940000534057617, \"close\": 21.81999969482422, \"open\": 21.850000381469727, \"adjclose\": 20.77729034423828, \"dividends\": 0.0}, {\"symbol\": \"WBC.AX\", \"date\": \"2021-01-22T00:00:00\", \"low\": 21.639999389648438, \"volume\": 6984829, \"high\": 21.8700008392334, \"close\": 21.780000686645508, \"open\": 21.639999389648438, \"adjclose\": 20.73920440673828, \"dividends\": 0.0}, {\"symbol\": \"WBC.AX\", \"date\": \"2021-01-25T00:00:00\", \"low\": 21.6299991607666, \"volume\": 3960211, \"high\": 21.959999084472656, \"close\": 21.790000915527344, \"open\": 21.799999237060547, \"adjclose\": 20.74872589111328, \"dividends\": 0.0}, {\"symbol\": \"WBC.AX\", \"date\": \"2021-01-27T00:00:00\", \"low\": 21.510000228881836, \"volume\": 7565067, \"high\": 21.969999313354492, \"close\": 21.65999984741211, \"open\": 21.850000381469727, \"adjclose\": 20.624937057495117, \"dividends\": 0.0}, {\"symbol\": \"WBC.AX\", \"date\": \"2021-01-28T00:00:00\", \"low\": 21.020000457763672, \"volume\": 8389458, \"high\": 21.469999313354492, \"close\": 21.459999084472656, \"open\": 21.229999542236328, \"adjclose\": 20.434494018554688, \"dividends\": 0.0}, {\"symbol\": \"WBC.AX\", \"date\": \"2021-01-29T00:00:00\", \"low\": 21.024999618530273, \"volume\": 8256673, \"high\": 21.65999984741211, \"close\": 21.1299991607666, \"open\": 21.649999618530273, \"adjclose\": 20.120264053344727, \"dividends\": 0.0}, {\"symbol\": \"WBC.AX\", \"date\": \"2021-02-01T00:00:00\", \"low\": 20.65999984741211, \"volume\": 6319097, \"high\": 21.31999969482422, \"close\": 21.209999084472656, \"open\": 20.799999237060547, \"adjclose\": 20.196439743041992, \"dividends\": 0.0}, {\"symbol\": \"WBC.AX\", \"date\": \"2021-02-02T00:00:00\", \"low\": 21.309999465942383, \"volume\": 6367499, \"high\": 21.549999237060547, \"close\": 21.420000076293945, \"open\": 21.40999984741211, \"adjclose\": 20.396406173706055, \"dividends\": 0.0}, {\"symbol\": \"WBC.AX\", \"date\": \"2021-02-03T00:00:00\", \"low\": 21.6200008392334, \"volume\": 7742337, \"high\": 21.93000030517578, \"close\": 21.75, \"open\": 21.709999084472656, \"adjclose\": 20.710636138916016, \"dividends\": 0.0}, {\"symbol\": \"WBC.AX\", \"date\": \"2021-02-04T00:00:00\", \"low\": 21.6200008392334, \"volume\": 4342173, \"high\": 21.850000381469727, \"close\": 21.709999084472656, \"open\": 21.809999465942383, \"adjclose\": 20.67254638671875, \"dividends\": 0.0}, {\"symbol\": \"WBC.AX\", \"date\": \"2021-02-05T00:00:00\", \"low\": 21.829999923706055, \"volume\": 7968872, \"high\": 22.209999084472656, \"close\": 22.149999618530273, \"open\": 21.969999313354492, \"adjclose\": 21.091522216796875, \"dividends\": 0.0}, {\"symbol\": \"WBC.AX\", \"date\": \"2021-02-08T00:00:00\", \"low\": 22.190000534057617, \"volume\": 8064909, \"high\": 22.59000015258789, \"close\": 22.450000762939453, \"open\": 22.209999084472656, \"adjclose\": 21.377185821533203, \"dividends\": 0.0}, {\"symbol\": \"WBC.AX\", \"date\": \"2021-02-09T00:00:00\", \"low\": 22.110000610351562, \"volume\": 4756119, \"high\": 22.440000534057617, \"close\": 22.170000076293945, \"open\": 22.360000610351562, \"adjclose\": 21.110567092895508, \"dividends\": 0.0}, {\"symbol\": \"WBC.AX\", \"date\": \"2021-02-10T00:00:00\", \"low\": 22.1200008392334, \"volume\": 4713107, \"high\": 22.450000762939453, \"close\": 22.229999542236328, \"open\": 22.299999237060547, \"adjclose\": 21.16769790649414, \"dividends\": 0.0}, {\"symbol\": \"WBC.AX\", \"date\": \"2021-02-11T00:00:00\", \"low\": 22.079999923706055, \"volume\": 4218812, \"high\": 22.329999923706055, \"close\": 22.290000915527344, \"open\": 22.170000076293945, \"adjclose\": 21.22483253479004, \"dividends\": 0.0}, {\"symbol\": \"WBC.AX\", \"date\": \"2021-02-12T00:00:00\", \"low\": 22.059999465942383, \"volume\": 4943999, \"high\": 22.329999923706055, \"close\": 22.139999389648438, \"open\": 22.280000686645508, \"adjclose\": 21.081998825073242, \"dividends\": 0.0}, {\"symbol\": \"WBC.AX\", \"date\": \"2021-02-15T00:00:00\", \"low\": 22.260000228881836, \"volume\": 4389653, \"high\": 22.559999465942383, \"close\": 22.399999618530273, \"open\": 22.350000381469727, \"adjclose\": 21.329574584960938, \"dividends\": 0.0}, {\"symbol\": \"WBC.AX\", \"date\": \"2021-02-16T00:00:00\", \"low\": 22.459999084472656, \"volume\": 6448280, \"high\": 22.899999618530273, \"close\": 22.510000228881836, \"open\": 22.6200008392334, \"adjclose\": 21.43431854248047, \"dividends\": 0.0}, {\"symbol\": \"WBC.AX\", \"date\": \"2021-02-17T00:00:00\", \"low\": 23.459999084472656, \"volume\": 14880630, \"high\": 23.940000534057617, \"close\": 23.540000915527344, \"open\": 23.600000381469727, \"adjclose\": 22.41510009765625, \"dividends\": 0.0}, {\"symbol\": \"WBC.AX\", \"date\": \"2021-02-18T00:00:00\", \"low\": 23.969999313354492, \"volume\": 15032032, \"high\": 24.479999542236328, \"close\": 24.3700008392334, \"open\": 24.059999465942383, \"adjclose\": 23.20543670654297, \"dividends\": 0.0}, {\"symbol\": \"WBC.AX\", \"date\": \"2021-02-19T00:00:00\", \"low\": 23.899999618530273, \"volume\": 10418673, \"high\": 24.200000762939453, \"close\": 24.09000015258789, \"open\": 24.149999618530273, \"adjclose\": 22.93881607055664, \"dividends\": 0.0}, {\"symbol\": \"WBC.AX\", \"date\": \"2021-02-22T00:00:00\", \"low\": 23.68000030517578, \"volume\": 7376834, \"high\": 24.1200008392334, \"close\": 23.719999313354492, \"open\": 24.100000381469727, \"adjclose\": 22.586496353149414, \"dividends\": 0.0}, {\"symbol\": \"WBC.AX\", \"date\": \"2021-02-23T00:00:00\", \"low\": 23.575000762939453, \"volume\": 6808998, \"high\": 24.18000030517578, \"close\": 24.15999984741211, \"open\": 23.709999084472656, \"adjclose\": 23.005470275878906, \"dividends\": 0.0}, {\"symbol\": \"WBC.AX\", \"date\": \"2021-02-24T00:00:00\", \"low\": 23.899999618530273, \"volume\": 4595204, \"high\": 24.075000762939453, \"close\": 24.049999237060547, \"open\": 24.030000686645508, \"adjclose\": 22.900726318359375, \"dividends\": 0.0}, {\"symbol\": \"WBC.AX\", \"date\": \"2021-02-25T00:00:00\", \"low\": 24.1200008392334, \"volume\": 6769867, \"high\": 24.469999313354492, \"close\": 24.360000610351562, \"open\": 24.299999237060547, \"adjclose\": 23.195913314819336, \"dividends\": 0.0}, {\"symbol\": \"WBC.AX\", \"date\": \"2021-02-26T00:00:00\", \"low\": 23.690000534057617, \"volume\": 11370199, \"high\": 24.200000762939453, \"close\": 23.81999969482422, \"open\": 24.18000030517578, \"adjclose\": 22.681716918945312, \"dividends\": 0.0}, {\"symbol\": \"WBC.AX\", \"date\": \"2021-03-01T00:00:00\", \"low\": 23.809999465942383, \"volume\": 5805483, \"high\": 24.25, \"close\": 24.190000534057617, \"open\": 23.8700008392334, \"adjclose\": 23.03403663635254, \"dividends\": 0.0}, {\"symbol\": \"WBC.AX\", \"date\": \"2021-03-02T00:00:00\", \"low\": 24.079999923706055, \"volume\": 8680741, \"high\": 24.459999084472656, \"close\": 24.15999984741211, \"open\": 24.399999618530273, \"adjclose\": 23.005470275878906, \"dividends\": 0.0}, {\"symbol\": \"WBC.AX\", \"date\": \"2021-03-03T00:00:00\", \"low\": 24.030000686645508, \"volume\": 6923689, \"high\": 24.6200008392334, \"close\": 24.530000686645508, \"open\": 24.059999465942383, \"adjclose\": 23.357789993286133, \"dividends\": 0.0}, {\"symbol\": \"WBC.AX\", \"date\": \"2021-03-04T00:00:00\", \"low\": 24.43000030517578, \"volume\": 10014282, \"high\": 24.8700008392334, \"close\": 24.84000015258789, \"open\": 24.799999237060547, \"adjclose\": 23.65297508239746, \"dividends\": 0.0}, {\"symbol\": \"WBC.AX\", \"date\": \"2021-03-05T00:00:00\", \"low\": 24.649999618530273, \"volume\": 7754868, \"high\": 25.0, \"close\": 24.8700008392334, \"open\": 24.81999969482422, \"adjclose\": 23.681543350219727, \"dividends\": 0.0}, {\"symbol\": \"WBC.AX\", \"date\": \"2021-03-08T00:00:00\", \"low\": 24.700000762939453, \"volume\": 5403844, \"high\": 25.280000686645508, \"close\": 24.739999771118164, \"open\": 25.100000381469727, \"adjclose\": 23.557754516601562, \"dividends\": 0.0}, {\"symbol\": \"WBC.AX\", \"date\": \"2021-03-09T00:00:00\", \"low\": 24.8700008392334, \"volume\": 6298195, \"high\": 25.299999237060547, \"close\": 24.920000076293945, \"open\": 25.079999923706055, \"adjclose\": 23.72915267944336, \"dividends\": 0.0}, {\"symbol\": \"WBC.AX\", \"date\": \"2021-03-10T00:00:00\", \"low\": 24.579999923706055, \"volume\": 4504867, \"high\": 24.969999313354492, \"close\": 24.600000381469727, \"open\": 24.829999923706055, \"adjclose\": 23.4244441986084, \"dividends\": 0.0}, {\"symbol\": \"WBC.AX\", \"date\": \"2021-03-11T00:00:00\", \"low\": 24.329999923706055, \"volume\": 6216274, \"high\": 24.84000015258789, \"close\": 24.530000686645508, \"open\": 24.68000030517578, \"adjclose\": 23.357789993286133, \"dividends\": 0.0}, {\"symbol\": \"WBC.AX\", \"date\": \"2021-03-12T00:00:00\", \"low\": 24.399999618530273, \"volume\": 4139949, \"high\": 24.649999618530273, \"close\": 24.450000762939453, \"open\": 24.600000381469727, \"adjclose\": 23.281612396240234, \"dividends\": 0.0}, {\"symbol\": \"WBC.AX\", \"date\": \"2021-03-15T00:00:00\", \"low\": 24.34000015258789, \"volume\": 4392730, \"high\": 24.729999542236328, \"close\": 24.579999923706055, \"open\": 24.540000915527344, \"adjclose\": 23.405399322509766, \"dividends\": 0.0}, {\"symbol\": \"WBC.AX\", \"date\": \"2021-03-16T00:00:00\", \"low\": 24.459999084472656, \"volume\": 5819629, \"high\": 24.899999618530273, \"close\": 24.729999542236328, \"open\": 24.649999618530273, \"adjclose\": 23.54823112487793, \"dividends\": 0.0}, {\"symbol\": \"WBC.AX\", \"date\": \"2021-03-17T00:00:00\", \"low\": 24.5049991607666, \"volume\": 4731339, \"high\": 24.790000915527344, \"close\": 24.670000076293945, \"open\": 24.690000534057617, \"adjclose\": 23.491098403930664, \"dividends\": 0.0}, {\"symbol\": \"WBC.AX\", \"date\": \"2021-03-18T00:00:00\", \"low\": 24.3799991607666, \"volume\": 7010572, \"high\": 24.649999618530273, \"close\": 24.440000534057617, \"open\": 24.440000534057617, \"adjclose\": 23.272090911865234, \"dividends\": 0.0}, {\"symbol\": \"WBC.AX\", \"date\": \"2021-03-19T00:00:00\", \"low\": 24.329999923706055, \"volume\": 17722276, \"high\": 24.65999984741211, \"close\": 24.520000457763672, \"open\": 24.360000610351562, \"adjclose\": 23.348268508911133, \"dividends\": 0.0}, {\"symbol\": \"WBC.AX\", \"date\": \"2021-03-22T00:00:00\", \"low\": 24.280000686645508, \"volume\": 4939978, \"high\": 24.719999313354492, \"close\": 24.65999984741211, \"open\": 24.479999542236328, \"adjclose\": 23.481576919555664, \"dividends\": 0.0}, {\"symbol\": \"WBC.AX\", \"date\": \"2021-03-23T00:00:00\", \"low\": 24.350000381469727, \"volume\": 6284485, \"high\": 24.610000610351562, \"close\": 24.43000030517578, \"open\": 24.489999771118164, \"adjclose\": 23.2625675201416, \"dividends\": 0.0}, {\"symbol\": \"WBC.AX\", \"date\": \"2021-03-24T00:00:00\", \"low\": 24.059999465942383, \"volume\": 6310570, \"high\": 24.3700008392334, \"close\": 24.190000534057617, \"open\": 24.299999237060547, \"adjclose\": 23.03403663635254, \"dividends\": 0.0}, {\"symbol\": \"WBC.AX\", \"date\": \"2021-03-25T00:00:00\", \"low\": 24.010000228881836, \"volume\": 5559320, \"high\": 24.209999084472656, \"close\": 24.1200008392334, \"open\": 24.049999237060547, \"adjclose\": 22.967382431030273, \"dividends\": 0.0}, {\"symbol\": \"WBC.AX\", \"date\": \"2021-03-26T00:00:00\", \"low\": 24.15999984741211, \"volume\": 5052780, \"high\": 24.440000534057617, \"close\": 24.34000015258789, \"open\": 24.170000076293945, \"adjclose\": 23.176868438720703, \"dividends\": 0.0}, {\"symbol\": \"WBC.AX\", \"date\": \"2021-03-29T00:00:00\", \"low\": 24.229999542236328, \"volume\": 5313079, \"high\": 24.65999984741211, \"close\": 24.34000015258789, \"open\": 24.399999618530273, \"adjclose\": 23.176868438720703, \"dividends\": 0.0}, {\"symbol\": \"WBC.AX\", \"date\": \"2021-03-30T00:00:00\", \"low\": 24.190000534057617, \"volume\": 6232996, \"high\": 24.540000915527344, \"close\": 24.360000610351562, \"open\": 24.450000762939453, \"adjclose\": 23.195913314819336, \"dividends\": 0.0}, {\"symbol\": \"WBC.AX\", \"date\": \"2021-03-31T00:00:00\", \"low\": 24.40999984741211, \"volume\": 7623677, \"high\": 24.780000686645508, \"close\": 24.40999984741211, \"open\": 24.450000762939453, \"adjclose\": 23.2435245513916, \"dividends\": 0.0}, {\"symbol\": \"WBC.AX\", \"date\": \"2021-04-01T00:00:00\", \"low\": 24.260000228881836, \"volume\": 4197192, \"high\": 24.559999465942383, \"close\": 24.540000915527344, \"open\": 24.420000076293945, \"adjclose\": 23.367311477661133, \"dividends\": 0.0}, {\"symbol\": \"WBC.AX\", \"date\": \"2021-04-06T00:00:00\", \"low\": 24.610000610351562, \"volume\": 4948766, \"high\": 24.860000610351562, \"close\": 24.700000762939453, \"open\": 24.75, \"adjclose\": 23.51966667175293, \"dividends\": 0.0}, {\"symbol\": \"WBC.AX\", \"date\": \"2021-04-07T00:00:00\", \"low\": 24.59000015258789, \"volume\": 4482088, \"high\": 24.8700008392334, \"close\": 24.84000015258789, \"open\": 24.709999084472656, \"adjclose\": 23.65297508239746, \"dividends\": 0.0}, {\"symbol\": \"WBC.AX\", \"date\": \"2021-04-08T00:00:00\", \"low\": 24.959999084472656, \"volume\": 7035601, \"high\": 25.3799991607666, \"close\": 25.15999984741211, \"open\": 25.170000076293945, \"adjclose\": 23.957683563232422, \"dividends\": 0.0}, {\"symbol\": \"WBC.AX\", \"date\": \"2021-04-09T00:00:00\", \"low\": 24.940000534057617, \"volume\": 4031591, \"high\": 25.219999313354492, \"close\": 25.209999084472656, \"open\": 25.1299991607666, \"adjclose\": 24.005292892456055, \"dividends\": 0.0}, {\"symbol\": \"WBC.AX\", \"date\": \"2021-04-12T00:00:00\", \"low\": 25.170000076293945, \"volume\": 3476635, \"high\": 25.3799991607666, \"close\": 25.299999237060547, \"open\": 25.200000762939453, \"adjclose\": 24.090991973876953, \"dividends\": 0.0}, {\"symbol\": \"WBC.AX\", \"date\": \"2021-04-13T00:00:00\", \"low\": 25.200000762939453, \"volume\": 3590515, \"high\": 25.360000610351562, \"close\": 25.309999465942383, \"open\": 25.239999771118164, \"adjclose\": 24.100515365600586, \"dividends\": 0.0}, {\"symbol\": \"WBC.AX\", \"date\": \"2021-04-14T00:00:00\", \"low\": 24.969999313354492, \"volume\": 5226936, \"high\": 25.3799991607666, \"close\": 25.329999923706055, \"open\": 25.190000534057617, \"adjclose\": 24.11956024169922, \"dividends\": 0.0}, {\"symbol\": \"WBC.AX\", \"date\": \"2021-04-15T00:00:00\", \"low\": 25.1299991607666, \"volume\": 5683675, \"high\": 25.520000457763672, \"close\": 25.5, \"open\": 25.299999237060547, \"adjclose\": 24.281436920166016, \"dividends\": 0.0}, {\"symbol\": \"WBC.AX\", \"date\": \"2021-04-16T00:00:00\", \"low\": 25.15999984741211, \"volume\": 5303151, \"high\": 25.40999984741211, \"close\": 25.31999969482422, \"open\": 25.350000381469727, \"adjclose\": 24.110036849975586, \"dividends\": 0.0}, {\"symbol\": \"WBC.AX\", \"date\": \"2021-04-19T00:00:00\", \"low\": 25.329999923706055, \"volume\": 3925295, \"high\": 25.489999771118164, \"close\": 25.360000610351562, \"open\": 25.440000534057617, \"adjclose\": 24.14812660217285, \"dividends\": 0.0}, {\"symbol\": \"WBC.AX\", \"date\": \"2021-04-20T00:00:00\", \"low\": 25.219999313354492, \"volume\": 4271830, \"high\": 25.389999389648438, \"close\": 25.239999771118164, \"open\": 25.299999237060547, \"adjclose\": 24.03386116027832, \"dividends\": 0.0}, {\"symbol\": \"WBC.AX\", \"date\": \"2021-04-21T00:00:00\", \"low\": 24.6200008392334, \"volume\": 7806973, \"high\": 25.0, \"close\": 24.979999542236328, \"open\": 24.920000076293945, \"adjclose\": 23.786285400390625, \"dividends\": 0.0}, {\"symbol\": \"WBC.AX\", \"date\": \"2021-04-22T00:00:00\", \"low\": 24.940000534057617, \"volume\": 5606725, \"high\": 25.1299991607666, \"close\": 25.110000610351562, \"open\": 25.030000686645508, \"adjclose\": 23.91007423400879, \"dividends\": 0.0}, {\"symbol\": \"WBC.AX\", \"date\": \"2021-04-23T00:00:00\", \"low\": 24.979999542236328, \"volume\": 3923382, \"high\": 25.139999389648438, \"close\": 25.1200008392334, \"open\": 25.030000686645508, \"adjclose\": 23.91959571838379, \"dividends\": 0.0}, {\"symbol\": \"WBC.AX\", \"date\": \"2021-04-26T00:00:00\", \"low\": 25.079999923706055, \"volume\": 3952356, \"high\": 25.360000610351562, \"close\": 25.079999923706055, \"open\": 25.18000030517578, \"adjclose\": 23.881505966186523, \"dividends\": 0.0}, {\"symbol\": \"WBC.AX\", \"date\": \"2021-04-27T00:00:00\", \"low\": 24.864999771118164, \"volume\": 4798314, \"high\": 25.049999237060547, \"close\": 24.989999771118164, \"open\": 25.030000686645508, \"adjclose\": 23.795806884765625, \"dividends\": 0.0}, {\"symbol\": \"WBC.AX\", \"date\": \"2021-04-28T00:00:00\", \"low\": 25.1200008392334, \"volume\": 6383563, \"high\": 25.329999923706055, \"close\": 25.299999237060547, \"open\": 25.15999984741211, \"adjclose\": 24.090991973876953, \"dividends\": 0.0}, {\"symbol\": \"WBC.AX\", \"date\": \"2021-04-29T00:00:00\", \"low\": 25.149999618530273, \"volume\": 4948296, \"high\": 25.350000381469727, \"close\": 25.190000534057617, \"open\": 25.299999237060547, \"adjclose\": 23.986249923706055, \"dividends\": 0.0}, {\"symbol\": \"WBC.AX\", \"date\": \"2021-04-30T00:00:00\", \"low\": 24.959999084472656, \"volume\": 7878907, \"high\": 25.25, \"close\": 24.979999542236328, \"open\": 25.190000534057617, \"adjclose\": 23.786285400390625, \"dividends\": 0.0}, {\"symbol\": \"WBC.AX\", \"date\": \"2021-05-03T00:00:00\", \"low\": 25.6299991607666, \"volume\": 16139700, \"high\": 26.315000534057617, \"close\": 26.229999542236328, \"open\": 25.709999084472656, \"adjclose\": 24.976551055908203, \"dividends\": 0.0}, {\"symbol\": \"WBC.AX\", \"date\": \"2021-05-04T00:00:00\", \"low\": 25.809999465942383, \"volume\": 7196366, \"high\": 26.399999618530273, \"close\": 25.989999771118164, \"open\": 26.3799991607666, \"adjclose\": 24.74802017211914, \"dividends\": 0.0}, {\"symbol\": \"WBC.AX\", \"date\": \"2021-05-05T00:00:00\", \"low\": 25.899999618530273, \"volume\": 6367722, \"high\": 26.229999542236328, \"close\": 25.959999084472656, \"open\": 26.15999984741211, \"adjclose\": 24.719453811645508, \"dividends\": 0.0}, {\"symbol\": \"WBC.AX\", \"date\": \"2021-05-06T00:00:00\", \"low\": 25.760000228881836, \"volume\": 7343573, \"high\": 26.15999984741211, \"close\": 26.020000457763672, \"open\": 26.15999984741211, \"adjclose\": 24.776588439941406, \"dividends\": 0.0}, {\"symbol\": \"WBC.AX\", \"date\": \"2021-05-07T00:00:00\", \"low\": 25.899999618530273, \"volume\": 5496310, \"high\": 26.229999542236328, \"close\": 26.09000015258789, \"open\": 26.0, \"adjclose\": 24.843242645263672, \"dividends\": 0.0}, {\"symbol\": \"WBC.AX\", \"date\": \"2021-05-10T00:00:00\", \"low\": 26.139999389648438, \"volume\": 5134497, \"high\": 26.43000030517578, \"close\": 26.420000076293945, \"open\": 26.149999618530273, \"adjclose\": 25.157472610473633, \"dividends\": 0.0}, {\"symbol\": \"WBC.AX\", \"date\": \"2021-05-11T00:00:00\", \"low\": 26.040000915527344, \"volume\": 8110986, \"high\": 26.420000076293945, \"close\": 26.079999923706055, \"open\": 26.200000762939453, \"adjclose\": 24.83371925354004, \"dividends\": 0.0}, {\"symbol\": \"WBC.AX\", \"date\": \"2021-05-12T00:00:00\", \"low\": 25.510000228881836, \"volume\": 9336042, \"high\": 25.8700008392334, \"close\": 25.770000457763672, \"open\": 25.809999465942383, \"adjclose\": 24.53853416442871, \"dividends\": 0.0}, {\"symbol\": \"WBC.AX\", \"date\": \"2021-05-13T00:00:00\", \"low\": 25.049999237060547, \"volume\": 15714303, \"high\": 25.229999542236328, \"close\": 25.190000534057617, \"open\": 25.209999084472656, \"adjclose\": 24.53853416442871, \"dividends\": 0.58}, {\"symbol\": \"WBC.AX\", \"date\": \"2021-05-14T00:00:00\", \"low\": 25.389999389648438, \"volume\": 6227628, \"high\": 25.68000030517578, \"close\": 25.40999984741211, \"open\": 25.540000915527344, \"adjclose\": 24.752843856811523, \"dividends\": 0.0}, {\"symbol\": \"WBC.AX\", \"date\": \"2021-05-17T00:00:00\", \"low\": 25.299999237060547, \"volume\": 4330017, \"high\": 25.6200008392334, \"close\": 25.329999923706055, \"open\": 25.459999084472656, \"adjclose\": 24.67491340637207, \"dividends\": 0.0}, {\"symbol\": \"WBC.AX\", \"date\": \"2021-05-18T00:00:00\", \"low\": 25.299999237060547, \"volume\": 5375597, \"high\": 25.530000686645508, \"close\": 25.459999084472656, \"open\": 25.350000381469727, \"adjclose\": 24.801549911499023, \"dividends\": 0.0}, {\"symbol\": \"WBC.AX\", \"date\": \"2021-05-19T00:00:00\", \"low\": 25.040000915527344, \"volume\": 8323461, \"high\": 25.260000228881836, \"close\": 25.18000030517578, \"open\": 25.079999923706055, \"adjclose\": 24.528793334960938, \"dividends\": 0.0}, {\"symbol\": \"WBC.AX\", \"date\": \"2021-05-20T00:00:00\", \"low\": 25.209999084472656, \"volume\": 6815461, \"high\": 25.6200008392334, \"close\": 25.520000457763672, \"open\": 25.299999237060547, \"adjclose\": 24.860000610351562, \"dividends\": 0.0}, {\"symbol\": \"WBC.AX\", \"date\": \"2021-05-21T00:00:00\", \"low\": 25.559999465942383, \"volume\": 6201726, \"high\": 25.75, \"close\": 25.649999618530273, \"open\": 25.600000381469727, \"adjclose\": 24.986637115478516, \"dividends\": 0.0}, {\"symbol\": \"WBC.AX\", \"date\": \"2021-05-24T00:00:00\", \"low\": 25.75, \"volume\": 5142624, \"high\": 26.040000915527344, \"close\": 25.979999542236328, \"open\": 25.75, \"adjclose\": 25.308101654052734, \"dividends\": 0.0}, {\"symbol\": \"WBC.AX\", \"date\": \"2021-05-25T00:00:00\", \"low\": 25.9950008392334, \"volume\": 4272751, \"high\": 26.200000762939453, \"close\": 26.200000762939453, \"open\": 26.079999923706055, \"adjclose\": 25.52241325378418, \"dividends\": 0.0}, {\"symbol\": \"WBC.AX\", \"date\": \"2021-05-26T00:00:00\", \"low\": 26.149999618530273, \"volume\": 5697789, \"high\": 26.3799991607666, \"close\": 26.270000457763672, \"open\": 26.200000762939453, \"adjclose\": 25.59060287475586, \"dividends\": 0.0}, {\"symbol\": \"WBC.AX\", \"date\": \"2021-05-27T00:00:00\", \"low\": 26.09000015258789, \"volume\": 10776555, \"high\": 26.3799991607666, \"close\": 26.09000015258789, \"open\": 26.3799991607666, \"adjclose\": 25.415258407592773, \"dividends\": 0.0}, {\"symbol\": \"WBC.AX\", \"date\": \"2021-05-28T00:00:00\", \"low\": 26.2549991607666, \"volume\": 6870449, \"high\": 26.489999771118164, \"close\": 26.459999084472656, \"open\": 26.280000686645508, \"adjclose\": 25.77568817138672, \"dividends\": 0.0}, {\"symbol\": \"WBC.AX\", \"date\": \"2021-05-31T00:00:00\", \"low\": 26.329999923706055, \"volume\": 5044864, \"high\": 26.549999237060547, \"close\": 26.420000076293945, \"open\": 26.469999313354492, \"adjclose\": 25.736722946166992, \"dividends\": 0.0}, {\"symbol\": \"WBC.AX\", \"date\": \"2021-06-01T00:00:00\", \"low\": 26.110000610351562, \"volume\": 3536923, \"high\": 26.315000534057617, \"close\": 26.200000762939453, \"open\": 26.290000915527344, \"adjclose\": 25.52241325378418, \"dividends\": 0.0}, {\"symbol\": \"WBC.AX\", \"date\": \"2021-06-02T00:00:00\", \"low\": 26.110000610351562, \"volume\": 4138204, \"high\": 26.31999969482422, \"close\": 26.219999313354492, \"open\": 26.270000457763672, \"adjclose\": 25.541894912719727, \"dividends\": 0.0}, {\"symbol\": \"WBC.AX\", \"date\": \"2021-06-03T00:00:00\", \"low\": 26.334999084472656, \"volume\": 5659744, \"high\": 26.559999465942383, \"close\": 26.5, \"open\": 26.350000381469727, \"adjclose\": 25.814655303955078, \"dividends\": 0.0}, {\"symbol\": \"WBC.AX\", \"date\": \"2021-06-04T00:00:00\", \"low\": 26.59000015258789, \"volume\": 5744699, \"high\": 26.8799991607666, \"close\": 26.8700008392334, \"open\": 26.600000381469727, \"adjclose\": 26.175086975097656, \"dividends\": 0.0}, {\"symbol\": \"WBC.AX\", \"date\": \"2021-06-07T00:00:00\", \"low\": 26.540000915527344, \"volume\": 4647935, \"high\": 26.75, \"close\": 26.6299991607666, \"open\": 26.690000534057617, \"adjclose\": 25.94129180908203, \"dividends\": 0.0}, {\"symbol\": \"WBC.AX\", \"date\": \"2021-06-08T00:00:00\", \"low\": 26.600000381469727, \"volume\": 4068260, \"high\": 26.780000686645508, \"close\": 26.729999542236328, \"open\": 26.600000381469727, \"adjclose\": 26.038705825805664, \"dividends\": 0.0}, {\"symbol\": \"WBC.AX\", \"date\": \"2021-06-09T00:00:00\", \"low\": 26.520000457763672, \"volume\": 5192381, \"high\": 26.81999969482422, \"close\": 26.549999237060547, \"open\": 26.68000030517578, \"adjclose\": 25.863361358642578, \"dividends\": 0.0}, {\"symbol\": \"WBC.AX\", \"date\": \"2021-06-10T00:00:00\", \"low\": 26.479999542236328, \"volume\": 3671786, \"high\": 26.690000534057617, \"close\": 26.59000015258789, \"open\": 26.600000381469727, \"adjclose\": 25.902326583862305, \"dividends\": 0.0}, {\"symbol\": \"WBC.AX\", \"date\": \"2021-06-11T00:00:00\", \"low\": 26.18000030517578, \"volume\": 4231033, \"high\": 26.405000686645508, \"close\": 26.290000915527344, \"open\": 26.309999465942383, \"adjclose\": 25.61008644104004, \"dividends\": 0.0}, {\"symbol\": \"WBC.AX\", \"date\": \"2021-06-15T00:00:00\", \"low\": 26.3700008392334, \"volume\": 5026151, \"high\": 26.68000030517578, \"close\": 26.549999237060547, \"open\": 26.3799991607666, \"adjclose\": 25.863361358642578, \"dividends\": 0.0}, {\"symbol\": \"WBC.AX\", \"date\": \"2021-06-16T00:00:00\", \"low\": 26.549999237060547, \"volume\": 5993712, \"high\": 26.729999542236328, \"close\": 26.549999237060547, \"open\": 26.700000762939453, \"adjclose\": 25.863361358642578, \"dividends\": 0.0}, {\"symbol\": \"WBC.AX\", \"date\": \"2021-06-17T00:00:00\", \"low\": 26.719999313354492, \"volume\": 10341827, \"high\": 27.1200008392334, \"close\": 26.940000534057617, \"open\": 26.799999237060547, \"adjclose\": 26.243274688720703, \"dividends\": 0.0}, {\"symbol\": \"WBC.AX\", \"date\": \"2021-06-18T00:00:00\", \"low\": 26.719999313354492, \"volume\": 13927785, \"high\": 26.975000381469727, \"close\": 26.8799991607666, \"open\": 26.739999771118164, \"adjclose\": 26.184825897216797, \"dividends\": 0.0}, {\"symbol\": \"WBC.AX\", \"date\": \"2021-06-21T00:00:00\", \"low\": 26.075000762939453, \"volume\": 6311087, \"high\": 26.399999618530273, \"close\": 26.149999618530273, \"open\": 26.399999618530273, \"adjclose\": 25.473705291748047, \"dividends\": 0.0}, {\"symbol\": \"WBC.AX\", \"date\": \"2021-06-22T00:00:00\", \"low\": 26.520000457763672, \"volume\": 5969480, \"high\": 26.799999237060547, \"close\": 26.610000610351562, \"open\": 26.600000381469727, \"adjclose\": 25.921810150146484, \"dividends\": 0.0}, {\"symbol\": \"WBC.AX\", \"date\": \"2021-06-23T00:00:00\", \"low\": 26.079999923706055, \"volume\": 6732031, \"high\": 26.450000762939453, \"close\": 26.079999923706055, \"open\": 26.450000762939453, \"adjclose\": 25.405515670776367, \"dividends\": 0.0}, {\"symbol\": \"WBC.AX\", \"date\": \"2021-06-24T00:00:00\", \"low\": 25.725000381469727, \"volume\": 6208873, \"high\": 26.040000915527344, \"close\": 25.829999923706055, \"open\": 26.010000228881836, \"adjclose\": 25.1619815826416, \"dividends\": 0.0}, {\"symbol\": \"WBC.AX\", \"date\": \"2021-06-25T00:00:00\", \"low\": 25.860000610351562, \"volume\": 4701759, \"high\": 26.18000030517578, \"close\": 25.889999389648438, \"open\": 26.100000381469727, \"adjclose\": 25.220430374145508, \"dividends\": 0.0}, {\"symbol\": \"WBC.AX\", \"date\": \"2021-06-28T00:00:00\", \"low\": 25.6200008392334, \"volume\": 4082681, \"high\": 25.8700008392334, \"close\": 25.81999969482422, \"open\": 25.860000610351562, \"adjclose\": 25.152240753173828, \"dividends\": 0.0}, {\"symbol\": \"WBC.AX\", \"date\": \"2021-06-29T00:00:00\", \"low\": 25.55500030517578, \"volume\": 4315422, \"high\": 25.889999389648438, \"close\": 25.860000610351562, \"open\": 25.649999618530273, \"adjclose\": 25.191205978393555, \"dividends\": 0.0}, {\"symbol\": \"WBC.AX\", \"date\": \"2021-06-30T00:00:00\", \"low\": 25.809999465942383, \"volume\": 4755199, \"high\": 26.100000381469727, \"close\": 25.809999465942383, \"open\": 25.940000534057617, \"adjclose\": 25.142498016357422, \"dividends\": 0.0}, {\"symbol\": \"WBC.AX\", \"date\": \"2021-07-01T00:00:00\", \"low\": 25.610000610351562, \"volume\": 3863747, \"high\": 25.940000534057617, \"close\": 25.649999618530273, \"open\": 25.940000534057617, \"adjclose\": 24.986637115478516, \"dividends\": 0.0}, {\"symbol\": \"WBC.AX\", \"date\": \"2021-07-02T00:00:00\", \"low\": 25.559999465942383, \"volume\": 4852047, \"high\": 25.90999984741211, \"close\": 25.639999389648438, \"open\": 25.799999237060547, \"adjclose\": 24.97689437866211, \"dividends\": 0.0}, {\"symbol\": \"WBC.AX\", \"date\": \"2021-07-05T00:00:00\", \"low\": 25.479999542236328, \"volume\": 3965667, \"high\": 25.729999542236328, \"close\": 25.530000686645508, \"open\": 25.579999923706055, \"adjclose\": 24.869741439819336, \"dividends\": 0.0}, {\"symbol\": \"WBC.AX\", \"date\": \"2021-07-06T00:00:00\", \"low\": 25.450000762939453, \"volume\": 3784251, \"high\": 25.75, \"close\": 25.450000762939453, \"open\": 25.649999618530273, \"adjclose\": 24.791810989379883, \"dividends\": 0.0}, {\"symbol\": \"WBC.AX\", \"date\": \"2021-07-07T00:00:00\", \"low\": 25.299999237060547, \"volume\": 3270758, \"high\": 25.639999389648438, \"close\": 25.600000381469727, \"open\": 25.299999237060547, \"adjclose\": 24.937931060791016, \"dividends\": 0.0}, {\"symbol\": \"WBC.AX\", \"date\": \"2021-07-08T00:00:00\", \"low\": 25.440000534057617, \"volume\": 3028023, \"high\": 25.729999542236328, \"close\": 25.530000686645508, \"open\": 25.600000381469727, \"adjclose\": 24.869741439819336, \"dividends\": 0.0}, {\"symbol\": \"WBC.AX\", \"date\": \"2021-07-09T00:00:00\", \"low\": 25.170000076293945, \"volume\": 5603131, \"high\": 25.3700008392334, \"close\": 25.3700008392334, \"open\": 25.290000915527344, \"adjclose\": 24.713878631591797, \"dividends\": 0.0}, {\"symbol\": \"WBC.AX\", \"date\": \"2021-07-12T00:00:00\", \"low\": 25.459999084472656, \"volume\": 3092332, \"high\": 25.6299991607666, \"close\": 25.520000457763672, \"open\": 25.540000915527344, \"adjclose\": 24.860000610351562, \"dividends\": 0.0}, {\"symbol\": \"WBC.AX\", \"date\": \"2021-07-13T00:00:00\", \"low\": 25.329999923706055, \"volume\": 6903250, \"high\": 25.760000228881836, \"close\": 25.329999923706055, \"open\": 25.700000762939453, \"adjclose\": 24.67491340637207, \"dividends\": 0.0}, {\"symbol\": \"WBC.AX\", \"date\": \"2021-07-14T00:00:00\", \"low\": 25.170000076293945, \"volume\": 6256810, \"high\": 25.40999984741211, \"close\": 25.270000457763672, \"open\": 25.299999237060547, \"adjclose\": 24.616464614868164, \"dividends\": 0.0}, {\"symbol\": \"WBC.AX\", \"date\": \"2021-07-15T00:00:00\", \"low\": 24.969999313354492, \"volume\": 6903675, \"high\": 25.260000228881836, \"close\": 24.989999771118164, \"open\": 25.239999771118164, \"adjclose\": 24.343706130981445, \"dividends\": 0.0}, {\"symbol\": \"WBC.AX\", \"date\": \"2021-07-16T00:00:00\", \"low\": 24.780000686645508, \"volume\": 5496313, \"high\": 24.950000762939453, \"close\": 24.90999984741211, \"open\": 24.889999389648438, \"adjclose\": 24.265775680541992, \"dividends\": 0.0}, {\"symbol\": \"WBC.AX\", \"date\": \"2021-07-19T00:00:00\", \"low\": 24.329999923706055, \"volume\": 4841080, \"high\": 24.760000228881836, \"close\": 24.690000534057617, \"open\": 24.5, \"adjclose\": 24.05146598815918, \"dividends\": 0.0}, {\"symbol\": \"WBC.AX\", \"date\": \"2021-07-20T00:00:00\", \"low\": 24.1299991607666, \"volume\": 7344904, \"high\": 24.670000076293945, \"close\": 24.520000457763672, \"open\": 24.280000686645508, \"adjclose\": 23.885862350463867, \"dividends\": 0.0}, {\"symbol\": \"WBC.AX\", \"date\": \"2021-07-21T00:00:00\", \"low\": 24.690000534057617, \"volume\": 5212250, \"high\": 24.920000076293945, \"close\": 24.760000228881836, \"open\": 24.700000762939453, \"adjclose\": 24.11965560913086, \"dividends\": 0.0}, {\"symbol\": \"WBC.AX\", \"date\": \"2021-07-22T00:00:00\", \"low\": 24.75, \"volume\": 5058349, \"high\": 24.93000030517578, \"close\": 24.93000030517578, \"open\": 24.829999923706055, \"adjclose\": 24.28525733947754, \"dividends\": 0.0}, {\"symbol\": \"WBC.AX\", \"date\": \"2021-07-23T00:00:00\", \"low\": 24.600000381469727, \"volume\": 3593670, \"high\": 24.81999969482422, \"close\": 24.709999084472656, \"open\": 24.600000381469727, \"adjclose\": 24.070945739746094, \"dividends\": 0.0}, {\"symbol\": \"WBC.AX\", \"date\": \"2021-07-26T00:00:00\", \"low\": 24.530000686645508, \"volume\": 4340960, \"high\": 24.760000228881836, \"close\": 24.6200008392334, \"open\": 24.709999084472656, \"adjclose\": 23.9832763671875, \"dividends\": 0.0}, {\"symbol\": \"WBC.AX\", \"date\": \"2021-07-27T00:00:00\", \"low\": 24.56999969482422, \"volume\": 4923996, \"high\": 24.829999923706055, \"close\": 24.790000915527344, \"open\": 24.700000762939453, \"adjclose\": 24.148880004882812, \"dividends\": 0.0}, {\"symbol\": \"WBC.AX\", \"date\": \"2021-07-28T00:00:00\", \"low\": 24.540000915527344, \"volume\": 5082416, \"high\": 24.829999923706055, \"close\": 24.559999465942383, \"open\": 24.790000915527344, \"adjclose\": 23.92482566833496, \"dividends\": 0.0}, {\"symbol\": \"WBC.AX\", \"date\": \"2021-07-29T00:00:00\", \"low\": 24.450000762939453, \"volume\": 4118012, \"high\": 24.584999084472656, \"close\": 24.520000457763672, \"open\": 24.520000457763672, \"adjclose\": 23.885862350463867, \"dividends\": 0.0}, {\"symbol\": \"WBC.AX\", \"date\": \"2021-07-30T00:00:00\", \"low\": 24.510000228881836, \"volume\": 4467094, \"high\": 24.65999984741211, \"close\": 24.520000457763672, \"open\": 24.559999465942383, \"adjclose\": 23.885862350463867, \"dividends\": 0.0}, {\"symbol\": \"WBC.AX\", \"date\": \"2021-08-02T00:00:00\", \"low\": 24.6299991607666, \"volume\": 5337687, \"high\": 25.100000381469727, \"close\": 25.030000686645508, \"open\": 24.649999618530273, \"adjclose\": 24.382673263549805, \"dividends\": 0.0}, {\"symbol\": \"WBC.AX\", \"date\": \"2021-08-03T00:00:00\", \"low\": 24.700000762939453, \"volume\": 4714791, \"high\": 24.9950008392334, \"close\": 24.799999237060547, \"open\": 24.950000762939453, \"adjclose\": 24.158618927001953, \"dividends\": 0.0}, {\"symbol\": \"WBC.AX\", \"date\": \"2021-08-04T00:00:00\", \"low\": 24.719999313354492, \"volume\": 4835657, \"high\": 24.940000534057617, \"close\": 24.84000015258789, \"open\": 24.899999618530273, \"adjclose\": 24.197586059570312, \"dividends\": 0.0}, {\"symbol\": \"WBC.AX\", \"date\": \"2021-08-05T00:00:00\", \"low\": 24.81999969482422, \"volume\": 4631332, \"high\": 24.959999084472656, \"close\": 24.889999389648438, \"open\": 24.899999618530273, \"adjclose\": 24.246292114257812, \"dividends\": 0.0}, {\"symbol\": \"WBC.AX\", \"date\": \"2021-08-06T00:00:00\", \"low\": 24.920000076293945, \"volume\": 3993772, \"high\": 25.1200008392334, \"close\": 25.1200008392334, \"open\": 24.950000762939453, \"adjclose\": 24.47034454345703, \"dividends\": 0.0}, {\"symbol\": \"WBC.AX\", \"date\": \"2021-08-09T00:00:00\", \"low\": 25.25, \"volume\": 4880739, \"high\": 25.549999237060547, \"close\": 25.360000610351562, \"open\": 25.25, \"adjclose\": 24.704137802124023, \"dividends\": 0.0}, {\"symbol\": \"WBC.AX\", \"date\": \"2021-08-10T00:00:00\", \"low\": 25.399999618530273, \"volume\": 4393221, \"high\": 25.600000381469727, \"close\": 25.579999923706055, \"open\": 25.530000686645508, \"adjclose\": 24.918447494506836, \"dividends\": 0.0}, {\"symbol\": \"WBC.AX\", \"date\": \"2021-08-11T00:00:00\", \"low\": 25.670000076293945, \"volume\": 6494781, \"high\": 25.940000534057617, \"close\": 25.770000457763672, \"open\": 25.670000076293945, \"adjclose\": 25.103534698486328, \"dividends\": 0.0}, {\"symbol\": \"WBC.AX\", \"date\": \"2021-08-12T00:00:00\", \"low\": 25.649999618530273, \"volume\": 5499418, \"high\": 26.06999969482422, \"close\": 25.760000228881836, \"open\": 26.0, \"adjclose\": 25.093791961669922, \"dividends\": 0.0}, {\"symbol\": \"WBC.AX\", \"date\": \"2021-08-13T00:00:00\", \"low\": 25.84000015258789, \"volume\": 8336416, \"high\": 26.190000534057617, \"close\": 26.15999984741211, \"open\": 25.850000381469727, \"adjclose\": 25.483448028564453, \"dividends\": 0.0}, {\"symbol\": \"WBC.AX\", \"date\": \"2021-08-16T00:00:00\", \"low\": 25.790000915527344, \"volume\": 6592571, \"high\": 26.114999771118164, \"close\": 25.790000915527344, \"open\": 26.110000610351562, \"adjclose\": 25.123018264770508, \"dividends\": 0.0}, {\"symbol\": \"WBC.AX\", \"date\": \"2021-08-17T00:00:00\", \"low\": 25.260000228881836, \"volume\": 7196978, \"high\": 25.75, \"close\": 25.450000762939453, \"open\": 25.75, \"adjclose\": 24.791810989379883, \"dividends\": 0.0}, {\"symbol\": \"WBC.AX\", \"date\": \"2021-08-18T00:00:00\", \"low\": 25.489999771118164, \"volume\": 5800750, \"high\": 25.959999084472656, \"close\": 25.809999465942383, \"open\": 25.649999618530273, \"adjclose\": 25.142498016357422, \"dividends\": 0.0}, {\"symbol\": \"WBC.AX\", \"date\": \"2021-08-19T00:00:00\", \"low\": 25.670000076293945, \"volume\": 4807719, \"high\": 25.889999389648438, \"close\": 25.81999969482422, \"open\": 25.739999771118164, \"adjclose\": 25.152240753173828, \"dividends\": 0.0}, {\"symbol\": \"WBC.AX\", \"date\": \"2021-08-20T00:00:00\", \"low\": 25.68000030517578, \"volume\": 5884950, \"high\": 25.959999084472656, \"close\": 25.760000228881836, \"open\": 25.829999923706055, \"adjclose\": 25.093791961669922, \"dividends\": 0.0}, {\"symbol\": \"WBC.AX\", \"date\": \"2021-08-23T00:00:00\", \"low\": 25.65999984741211, \"volume\": 3608218, \"high\": 25.84000015258789, \"close\": 25.780000686645508, \"open\": 25.809999465942383, \"adjclose\": 25.1132755279541, \"dividends\": 0.0}, {\"symbol\": \"WBC.AX\", \"date\": \"2021-08-24T00:00:00\", \"low\": 25.770000457763672, \"volume\": 4079721, \"high\": 25.959999084472656, \"close\": 25.90999984741211, \"open\": 25.81999969482422, \"adjclose\": 25.239912033081055, \"dividends\": 0.0}, {\"symbol\": \"WBC.AX\", \"date\": \"2021-08-25T00:00:00\", \"low\": 25.850000381469727, \"volume\": 4652252, \"high\": 26.149999618530273, \"close\": 26.149999618530273, \"open\": 25.90999984741211, \"adjclose\": 25.473705291748047, \"dividends\": 0.0}, {\"symbol\": \"WBC.AX\", \"date\": \"2021-08-26T00:00:00\", \"low\": 25.920000076293945, \"volume\": 3215792, \"high\": 26.1299991607666, \"close\": 26.010000228881836, \"open\": 26.1299991607666, \"adjclose\": 25.33732795715332, \"dividends\": 0.0}, {\"symbol\": \"WBC.AX\", \"date\": \"2021-08-27T00:00:00\", \"low\": 25.834999084472656, \"volume\": 3041982, \"high\": 26.0, \"close\": 25.989999771118164, \"open\": 25.860000610351562, \"adjclose\": 25.31784439086914, \"dividends\": 0.0}, {\"symbol\": \"WBC.AX\", \"date\": \"2021-08-30T00:00:00\", \"low\": 25.65999984741211, \"volume\": 3870481, \"high\": 26.0, \"close\": 25.799999237060547, \"open\": 25.989999771118164, \"adjclose\": 25.13275718688965, \"dividends\": 0.0}, {\"symbol\": \"WBC.AX\", \"date\": \"2021-08-31T00:00:00\", \"low\": 25.600000381469727, \"volume\": 7187581, \"high\": 25.899999618530273, \"close\": 25.81999969482422, \"open\": 25.719999313354492, \"adjclose\": 25.152240753173828, \"dividends\": 0.0}, {\"symbol\": \"WBC.AX\", \"date\": \"2021-09-01T00:00:00\", \"low\": 25.6299991607666, \"volume\": 5362603, \"high\": 26.110000610351562, \"close\": 26.110000610351562, \"open\": 25.6299991607666, \"adjclose\": 25.434741973876953, \"dividends\": 0.0}, {\"symbol\": \"WBC.AX\", \"date\": \"2021-09-02T00:00:00\", \"low\": 25.915000915527344, \"volume\": 4608420, \"high\": 26.219999313354492, \"close\": 26.030000686645508, \"open\": 26.1299991607666, \"adjclose\": 25.356809616088867, \"dividends\": 0.0}, {\"symbol\": \"WBC.AX\", \"date\": \"2021-09-03T00:00:00\", \"low\": 25.899999618530273, \"volume\": 3221700, \"high\": 26.094999313354492, \"close\": 26.020000457763672, \"open\": 26.049999237060547, \"adjclose\": 25.347068786621094, \"dividends\": 0.0}, {\"symbol\": \"WBC.AX\", \"date\": \"2021-09-06T00:00:00\", \"low\": 25.670000076293945, \"volume\": 3889635, \"high\": 25.989999771118164, \"close\": 25.989999771118164, \"open\": 25.8799991607666, \"adjclose\": 25.31784439086914, \"dividends\": 0.0}, {\"symbol\": \"WBC.AX\", \"date\": \"2021-09-07T00:00:00\", \"low\": 25.809999465942383, \"volume\": 3039361, \"high\": 26.049999237060547, \"close\": 26.030000686645508, \"open\": 25.90999984741211, \"adjclose\": 25.356809616088867, \"dividends\": 0.0}, {\"symbol\": \"WBC.AX\", \"date\": \"2021-09-08T00:00:00\", \"low\": 25.8700008392334, \"volume\": 4588043, \"high\": 26.139999389648438, \"close\": 26.09000015258789, \"open\": 25.889999389648438, \"adjclose\": 25.415258407592773, \"dividends\": 0.0}, {\"symbol\": \"WBC.AX\", \"date\": \"2021-09-09T00:00:00\", \"low\": 25.469999313354492, \"volume\": 6285165, \"high\": 25.959999084472656, \"close\": 25.600000381469727, \"open\": 25.940000534057617, \"adjclose\": 24.937931060791016, \"dividends\": 0.0}, {\"symbol\": \"WBC.AX\", \"date\": \"2021-09-10T00:00:00\", \"low\": 25.56999969482422, \"volume\": 3862459, \"high\": 25.90999984741211, \"close\": 25.649999618530273, \"open\": 25.860000610351562, \"adjclose\": 24.986637115478516, \"dividends\": 0.0}, {\"symbol\": \"WBC.AX\", \"date\": \"2021-09-13T00:00:00\", \"low\": 25.5, \"volume\": 3159366, \"high\": 25.709999084472656, \"close\": 25.639999389648438, \"open\": 25.649999618530273, \"adjclose\": 24.97689437866211, \"dividends\": 0.0}, {\"symbol\": \"WBC.AX\", \"date\": \"2021-09-14T00:00:00\", \"low\": 25.479999542236328, \"volume\": 5793640, \"high\": 25.84000015258789, \"close\": 25.719999313354492, \"open\": 25.700000762939453, \"adjclose\": 25.054826736450195, \"dividends\": 0.0}, {\"symbol\": \"WBC.AX\", \"date\": \"2021-09-15T00:00:00\", \"low\": 25.459999084472656, \"volume\": 4874131, \"high\": 25.899999618530273, \"close\": 25.790000915527344, \"open\": 25.6299991607666, \"adjclose\": 25.123018264770508, \"dividends\": 0.0}, {\"symbol\": \"WBC.AX\", \"date\": \"2021-09-16T00:00:00\", \"low\": 25.700000762939453, \"volume\": 7311386, \"high\": 26.059999465942383, \"close\": 26.0, \"open\": 25.700000762939453, \"adjclose\": 25.327585220336914, \"dividends\": 0.0}, {\"symbol\": \"WBC.AX\", \"date\": \"2021-09-17T00:00:00\", \"low\": 25.719999313354492, \"volume\": 10104216, \"high\": 26.020000457763672, \"close\": 25.8799991607666, \"open\": 25.950000762939453, \"adjclose\": 25.2106876373291, \"dividends\": 0.0}, {\"symbol\": \"WBC.AX\", \"date\": \"2021-09-20T00:00:00\", \"low\": 25.260000228881836, \"volume\": 5516428, \"high\": 25.760000228881836, \"close\": 25.299999237060547, \"open\": 25.639999389648438, \"adjclose\": 24.645689010620117, \"dividends\": 0.0}, {\"symbol\": \"WBC.AX\", \"date\": \"2021-09-21T00:00:00\", \"low\": 24.899999618530273, \"volume\": 5100209, \"high\": 25.239999771118164, \"close\": 25.190000534057617, \"open\": 25.0, \"adjclose\": 24.53853416442871, \"dividends\": 0.0}, {\"symbol\": \"WBC.AX\", \"date\": \"2021-09-22T00:00:00\", \"low\": 24.899999618530273, \"volume\": 5924150, \"high\": 25.059999465942383, \"close\": 24.90999984741211, \"open\": 24.940000534057617, \"adjclose\": 24.265775680541992, \"dividends\": 0.0}, {\"symbol\": \"WBC.AX\", \"date\": \"2021-09-23T00:00:00\", \"low\": 25.030000686645508, \"volume\": 5614383, \"high\": 25.190000534057617, \"close\": 25.06999969482422, \"open\": 25.1299991607666, \"adjclose\": 24.4216365814209, \"dividends\": 0.0}, {\"symbol\": \"WBC.AX\", \"date\": \"2021-09-24T00:00:00\", \"low\": 25.139999389648438, \"volume\": 5185619, \"high\": 25.299999237060547, \"close\": 25.25, \"open\": 25.200000762939453, \"adjclose\": 24.596982955932617, \"dividends\": 0.0}, {\"symbol\": \"WBC.AX\", \"date\": \"2021-09-27T00:00:00\", \"low\": 25.3700008392334, \"volume\": 5134742, \"high\": 25.639999389648438, \"close\": 25.459999084472656, \"open\": 25.389999389648438, \"adjclose\": 24.801549911499023, \"dividends\": 0.0}, {\"symbol\": \"WBC.AX\", \"date\": \"2021-09-28T00:00:00\", \"low\": 25.270000457763672, \"volume\": 5698793, \"high\": 25.6200008392334, \"close\": 25.309999465942383, \"open\": 25.5, \"adjclose\": 24.65542984008789, \"dividends\": 0.0}, {\"symbol\": \"WBC.AX\", \"date\": \"2021-09-29T00:00:00\", \"low\": 25.0, \"volume\": 5875567, \"high\": 25.299999237060547, \"close\": 25.170000076293945, \"open\": 25.139999389648438, \"adjclose\": 24.51905059814453, \"dividends\": 0.0}, {\"symbol\": \"WBC.AX\", \"date\": \"2021-09-30T00:00:00\", \"low\": 25.389999389648438, \"volume\": 10871264, \"high\": 26.0, \"close\": 26.0, \"open\": 25.399999618530273, \"adjclose\": 25.327585220336914, \"dividends\": 0.0}, {\"symbol\": \"WBC.AX\", \"date\": \"2021-10-01T00:00:00\", \"low\": 25.229999542236328, \"volume\": 6978134, \"high\": 25.610000610351562, \"close\": 25.40999984741211, \"open\": 25.610000610351562, \"adjclose\": 24.752843856811523, \"dividends\": 0.0}, {\"symbol\": \"WBC.AX\", \"date\": \"2021-10-04T00:00:00\", \"low\": 25.700000762939453, \"volume\": 5168696, \"high\": 26.0, \"close\": 25.950000762939453, \"open\": 25.829999923706055, \"adjclose\": 25.278879165649414, \"dividends\": 0.0}, {\"symbol\": \"WBC.AX\", \"date\": \"2021-10-05T00:00:00\", \"low\": 25.56999969482422, \"volume\": 7490355, \"high\": 25.969999313354492, \"close\": 25.809999465942383, \"open\": 25.8799991607666, \"adjclose\": 25.142498016357422, \"dividends\": 0.0}, {\"symbol\": \"WBC.AX\", \"date\": \"2021-10-06T00:00:00\", \"low\": 25.469999313354492, \"volume\": 5269343, \"high\": 25.920000076293945, \"close\": 25.649999618530273, \"open\": 25.860000610351562, \"adjclose\": 24.986637115478516, \"dividends\": 0.0}, {\"symbol\": \"WBC.AX\", \"date\": \"2021-10-07T00:00:00\", \"low\": 25.670000076293945, \"volume\": 6901915, \"high\": 26.06999969482422, \"close\": 26.010000228881836, \"open\": 25.809999465942383, \"adjclose\": 25.33732795715332, \"dividends\": 0.0}, {\"symbol\": \"WBC.AX\", \"date\": \"2021-10-08T00:00:00\", \"low\": 25.719999313354492, \"volume\": 7412866, \"high\": 26.09000015258789, \"close\": 25.959999084472656, \"open\": 26.079999923706055, \"adjclose\": 25.288619995117188, \"dividends\": 0.0}, {\"symbol\": \"WBC.AX\", \"date\": \"2021-10-11T00:00:00\", \"low\": 25.75, \"volume\": 6860005, \"high\": 26.09000015258789, \"close\": 26.059999465942383, \"open\": 25.790000915527344, \"adjclose\": 25.38603401184082, \"dividends\": 0.0}, {\"symbol\": \"WBC.AX\", \"date\": \"2021-10-12T00:00:00\", \"low\": 25.440000534057617, \"volume\": 7888013, \"high\": 25.989999771118164, \"close\": 25.6299991607666, \"open\": 25.799999237060547, \"adjclose\": 24.967153549194336, \"dividends\": 0.0}, {\"symbol\": \"WBC.AX\", \"date\": \"2021-10-13T00:00:00\", \"low\": 25.200000762939453, \"volume\": 5960351, \"high\": 25.549999237060547, \"close\": 25.299999237060547, \"open\": 25.549999237060547, \"adjclose\": 24.645689010620117, \"dividends\": 0.0}, {\"symbol\": \"WBC.AX\", \"date\": \"2021-10-14T00:00:00\", \"low\": 25.270000457763672, \"volume\": 4714356, \"high\": 25.559999465942383, \"close\": 25.270000457763672, \"open\": 25.299999237060547, \"adjclose\": 24.616464614868164, \"dividends\": 0.0}, {\"symbol\": \"WBC.AX\", \"date\": \"2021-10-15T00:00:00\", \"low\": 25.25, \"volume\": 3710101, \"high\": 25.510000228881836, \"close\": 25.389999389648438, \"open\": 25.389999389648438, \"adjclose\": 24.733360290527344, \"dividends\": 0.0}, {\"symbol\": \"WBC.AX\", \"date\": \"2021-10-18T00:00:00\", \"low\": 25.510000228881836, \"volume\": 3315029, \"high\": 25.729999542236328, \"close\": 25.579999923706055, \"open\": 25.600000381469727, \"adjclose\": 24.918447494506836, \"dividends\": 0.0}, {\"symbol\": \"WBC.AX\", \"date\": \"2021-10-19T00:00:00\", \"low\": 25.479999542236328, \"volume\": 3498064, \"high\": 25.670000076293945, \"close\": 25.479999542236328, \"open\": 25.540000915527344, \"adjclose\": 24.821033477783203, \"dividends\": 0.0}, {\"symbol\": \"WBC.AX\", \"date\": \"2021-10-20T00:00:00\", \"low\": 25.530000686645508, \"volume\": 5466887, \"high\": 25.799999237060547, \"close\": 25.68000030517578, \"open\": 25.56999969482422, \"adjclose\": 25.01586151123047, \"dividends\": 0.0}, {\"symbol\": \"WBC.AX\", \"date\": \"2021-10-21T00:00:00\", \"low\": 25.670000076293945, \"volume\": 6495075, \"high\": 25.8799991607666, \"close\": 25.829999923706055, \"open\": 25.770000457763672, \"adjclose\": 25.1619815826416, \"dividends\": 0.0}, {\"symbol\": \"WBC.AX\", \"date\": \"2021-10-22T00:00:00\", \"low\": 25.559999465942383, \"volume\": 4546300, \"high\": 25.770000457763672, \"close\": 25.739999771118164, \"open\": 25.709999084472656, \"adjclose\": 25.074310302734375, \"dividends\": 0.0}, {\"symbol\": \"WBC.AX\", \"date\": \"2021-10-25T00:00:00\", \"low\": 25.670000076293945, \"volume\": 3166667, \"high\": 25.899999618530273, \"close\": 25.709999084472656, \"open\": 25.809999465942383, \"adjclose\": 25.04508399963379, \"dividends\": 0.0}, {\"symbol\": \"WBC.AX\", \"date\": \"2021-10-26T00:00:00\", \"low\": 25.739999771118164, \"volume\": 2900146, \"high\": 25.90999984741211, \"close\": 25.790000915527344, \"open\": 25.780000686645508, \"adjclose\": 25.123018264770508, \"dividends\": 0.0}, {\"symbol\": \"WBC.AX\", \"date\": \"2021-10-27T00:00:00\", \"low\": 25.809999465942383, \"volume\": 5443851, \"high\": 26.190000534057617, \"close\": 25.950000762939453, \"open\": 25.899999618530273, \"adjclose\": 25.278879165649414, \"dividends\": 0.0}, {\"symbol\": \"WBC.AX\", \"date\": \"2021-10-28T00:00:00\", \"low\": 25.959999084472656, \"volume\": 6313561, \"high\": 26.25, \"close\": 26.229999542236328, \"open\": 25.989999771118164, \"adjclose\": 25.551637649536133, \"dividends\": 0.0}, {\"symbol\": \"WBC.AX\", \"date\": \"2021-10-29T00:00:00\", \"low\": 25.670000076293945, \"volume\": 7936427, \"high\": 26.440000534057617, \"close\": 25.670000076293945, \"open\": 26.34000015258789, \"adjclose\": 25.006120681762695, \"dividends\": 0.0}, {\"symbol\": \"WBC.AX\", \"date\": \"2021-11-01T00:00:00\", \"low\": 23.780000686645508, \"volume\": 36262379, \"high\": 24.700000762939453, \"close\": 23.780000686645508, \"open\": 24.5, \"adjclose\": 23.165000915527344, \"dividends\": 0.0}, {\"symbol\": \"WBC.AX\", \"date\": \"2021-11-02T00:00:00\", \"low\": 23.0, \"volume\": 21163708, \"high\": 23.950000762939453, \"close\": 23.1299991607666, \"open\": 23.950000762939453, \"adjclose\": 22.531808853149414, \"dividends\": 0.0}, {\"symbol\": \"WBC.AX\", \"date\": \"2021-11-03T00:00:00\", \"low\": 23.149999618530273, \"volume\": 17407560, \"high\": 23.540000915527344, \"close\": 23.149999618530273, \"open\": 23.440000534057617, \"adjclose\": 22.551292419433594, \"dividends\": 0.0}, {\"symbol\": \"WBC.AX\", \"date\": \"2021-11-04T00:00:00\", \"low\": 23.079999923706055, \"volume\": 12864818, \"high\": 23.299999237060547, \"close\": 23.200000762939453, \"open\": 23.219999313354492, \"adjclose\": 22.600000381469727, \"dividends\": 0.0}, {\"symbol\": \"WBC.AX\", \"date\": \"2021-11-05T00:00:00\", \"low\": 22.549999237060547, \"volume\": 11882536, \"high\": 22.709999084472656, \"close\": 22.549999237060547, \"open\": 22.600000381469727, \"adjclose\": 22.549999237060547, \"dividends\": 0.6}, {\"symbol\": \"WBC.AX\", \"date\": \"2021-11-08T00:00:00\", \"low\": 22.649999618530273, \"volume\": 8243874, \"high\": 22.969999313354492, \"close\": 22.84000015258789, \"open\": 22.709999084472656, \"adjclose\": 22.84000015258789, \"dividends\": 0.0}, {\"symbol\": \"WBC.AX\", \"date\": \"2021-11-09T00:00:00\", \"low\": 22.520000457763672, \"volume\": 9292162, \"high\": 22.940000534057617, \"close\": 22.520000457763672, \"open\": 22.829999923706055, \"adjclose\": 22.520000457763672, \"dividends\": 0.0}, {\"symbol\": \"WBC.AX\", \"date\": \"2021-11-10T00:00:00\", \"low\": 22.559999465942383, \"volume\": 10203425, \"high\": 23.020000457763672, \"close\": 22.709999084472656, \"open\": 22.600000381469727, \"adjclose\": 22.709999084472656, \"dividends\": 0.0}, {\"symbol\": \"WBC.AX\", \"date\": \"2021-11-11T00:00:00\", \"low\": 22.59000015258789, \"volume\": 7779728, \"high\": 22.979999542236328, \"close\": 22.68000030517578, \"open\": 22.959999084472656, \"adjclose\": 22.68000030517578, \"dividends\": 0.0}, {\"symbol\": \"WBC.AX\", \"date\": \"2021-11-12T00:00:00\", \"low\": 22.690000534057617, \"volume\": 7057740, \"high\": 22.8799991607666, \"close\": 22.690000534057617, \"open\": 22.81999969482422, \"adjclose\": 22.690000534057617, \"dividends\": 0.0}, {\"symbol\": \"WBC.AX\", \"date\": \"2021-11-15T00:00:00\", \"low\": 22.709999084472656, \"volume\": 6268187, \"high\": 22.90999984741211, \"close\": 22.829999923706055, \"open\": 22.719999313354492, \"adjclose\": 22.829999923706055, \"dividends\": 0.0}, {\"symbol\": \"WBC.AX\", \"date\": \"2021-11-16T00:00:00\", \"low\": 22.719999313354492, \"volume\": 7676007, \"high\": 22.950000762939453, \"close\": 22.75, \"open\": 22.81999969482422, \"adjclose\": 22.75, \"dividends\": 0.0}, {\"symbol\": \"WBC.AX\", \"date\": \"2021-11-17T00:00:00\", \"low\": 22.31999969482422, \"volume\": 15750370, \"high\": 22.75, \"close\": 22.3700008392334, \"open\": 22.75, \"adjclose\": 22.3700008392334, \"dividends\": 0.0}, {\"symbol\": \"WBC.AX\", \"date\": \"2021-11-18T00:00:00\", \"low\": 22.149999618530273, \"volume\": 7812318, \"high\": 22.360000610351562, \"close\": 22.149999618530273, \"open\": 22.299999237060547, \"adjclose\": 22.149999618530273, \"dividends\": 0.0}, {\"symbol\": \"WBC.AX\", \"date\": \"2021-11-19T00:00:00\", \"low\": 22.06999969482422, \"volume\": 7130173, \"high\": 22.420000076293945, \"close\": 22.139999389648438, \"open\": 22.209999084472656, \"adjclose\": 22.139999389648438, \"dividends\": 0.0}, {\"symbol\": \"WBC.AX\", \"date\": \"2021-11-22T00:00:00\", \"low\": 21.6299991607666, \"volume\": 11659056, \"high\": 22.100000381469727, \"close\": 21.68000030517578, \"open\": 22.059999465942383, \"adjclose\": 21.68000030517578, \"dividends\": 0.0}, {\"symbol\": \"WBC.AX\", \"date\": \"2021-11-23T00:00:00\", \"low\": 21.780000686645508, \"volume\": 8913273, \"high\": 22.079999923706055, \"close\": 21.809999465942383, \"open\": 22.0, \"adjclose\": 21.809999465942383, \"dividends\": 0.0}, {\"symbol\": \"WBC.AX\", \"date\": \"2021-11-24T00:00:00\", \"low\": 21.760000228881836, \"volume\": 9138671, \"high\": 21.969999313354492, \"close\": 21.799999237060547, \"open\": 21.959999084472656, \"adjclose\": 21.799999237060547, \"dividends\": 0.0}, {\"symbol\": \"WBC.AX\", \"date\": \"2021-11-25T00:00:00\", \"low\": 21.610000610351562, \"volume\": 5572556, \"high\": 21.75, \"close\": 21.6299991607666, \"open\": 21.729999542236328, \"adjclose\": 21.6299991607666, \"dividends\": 0.0}, {\"symbol\": \"WBC.AX\", \"date\": \"2021-11-26T00:00:00\", \"low\": 21.030000686645508, \"volume\": 12599479, \"high\": 21.729999542236328, \"close\": 21.079999923706055, \"open\": 21.670000076293945, \"adjclose\": 21.079999923706055, \"dividends\": 0.0}, {\"symbol\": \"WBC.AX\", \"date\": \"2021-11-29T00:00:00\", \"low\": 20.709999084472656, \"volume\": 10422024, \"high\": 21.049999237060547, \"close\": 20.920000076293945, \"open\": 20.739999771118164, \"adjclose\": 20.920000076293945, \"dividends\": 0.0}, {\"symbol\": \"WBC.AX\", \"date\": \"2021-11-30T00:00:00\", \"low\": 20.520000457763672, \"volume\": 19864589, \"high\": 21.270000457763672, \"close\": 20.520000457763672, \"open\": 21.149999618530273, \"adjclose\": 20.520000457763672, \"dividends\": 0.0}, {\"symbol\": \"WBC.AX\", \"date\": \"2021-12-01T00:00:00\", \"low\": 20.420000076293945, \"volume\": 11385217, \"high\": 20.700000762939453, \"close\": 20.6200008392334, \"open\": 20.5, \"adjclose\": 20.6200008392334, \"dividends\": 0.0}, {\"symbol\": \"WBC.AX\", \"date\": \"2021-12-02T00:00:00\", \"low\": 20.3700008392334, \"volume\": 12803060, \"high\": 20.709999084472656, \"close\": 20.459999084472656, \"open\": 20.5, \"adjclose\": 20.459999084472656, \"dividends\": 0.0}, {\"symbol\": \"WBC.AX\", \"date\": \"2021-12-03T00:00:00\", \"low\": 20.469999313354492, \"volume\": 10581813, \"high\": 20.780000686645508, \"close\": 20.700000762939453, \"open\": 20.649999618530273, \"adjclose\": 20.700000762939453, \"dividends\": 0.0}, {\"symbol\": \"WBC.AX\", \"date\": \"2021-12-06T00:00:00\", \"low\": 20.549999237060547, \"volume\": 6657880, \"high\": 20.780000686645508, \"close\": 20.719999313354492, \"open\": 20.709999084472656, \"adjclose\": 20.719999313354492, \"dividends\": 0.0}, {\"symbol\": \"WBC.AX\", \"date\": \"2021-12-07T00:00:00\", \"low\": 20.780000686645508, \"volume\": 6453719, \"high\": 21.049999237060547, \"close\": 20.950000762939453, \"open\": 21.0, \"adjclose\": 20.950000762939453, \"dividends\": 0.0}, {\"symbol\": \"WBC.AX\", \"date\": \"2021-12-08T00:00:00\", \"low\": 20.860000610351562, \"volume\": 8488954, \"high\": 21.239999771118164, \"close\": 21.06999969482422, \"open\": 21.100000381469727, \"adjclose\": 21.06999969482422, \"dividends\": 0.0}, {\"symbol\": \"WBC.AX\", \"date\": \"2021-12-09T00:00:00\", \"low\": 20.989999771118164, \"volume\": 6565445, \"high\": 21.18000030517578, \"close\": 21.020000457763672, \"open\": 21.06999969482422, \"adjclose\": 21.020000457763672, \"dividends\": 0.0}, {\"symbol\": \"WBC.AX\", \"date\": \"2021-12-10T00:00:00\", \"low\": 20.799999237060547, \"volume\": 8105983, \"high\": 21.079999923706055, \"close\": 20.850000381469727, \"open\": 21.0, \"adjclose\": 20.850000381469727, \"dividends\": 0.0}, {\"symbol\": \"WBC.AX\", \"date\": \"2021-12-13T00:00:00\", \"low\": 20.81999969482422, \"volume\": 8019729, \"high\": 20.979999542236328, \"close\": 20.81999969482422, \"open\": 20.940000534057617, \"adjclose\": 20.81999969482422, \"dividends\": 0.0}, {\"symbol\": \"WBC.AX\", \"date\": \"2021-12-14T00:00:00\", \"low\": 20.729999542236328, \"volume\": 4769916, \"high\": 20.979999542236328, \"close\": 20.93000030517578, \"open\": 20.75, \"adjclose\": 20.93000030517578, \"dividends\": 0.0}, {\"symbol\": \"WBC.AX\", \"date\": \"2021-12-15T00:00:00\", \"low\": 20.940000534057617, \"volume\": 5855415, \"high\": 21.139999389648438, \"close\": 20.989999771118164, \"open\": 21.0, \"adjclose\": 20.989999771118164, \"dividends\": 0.0}, {\"symbol\": \"WBC.AX\", \"date\": \"2021-12-16T00:00:00\", \"low\": 20.764999389648438, \"volume\": 12170423, \"high\": 21.059999465942383, \"close\": 20.959999084472656, \"open\": 20.940000534057617, \"adjclose\": 20.959999084472656, \"dividends\": 0.0}, {\"symbol\": \"WBC.AX\", \"date\": \"2021-12-17T00:00:00\", \"low\": 21.030000686645508, \"volume\": 18752577, \"high\": 21.360000610351562, \"close\": 21.030000686645508, \"open\": 21.149999618530273, \"adjclose\": 21.030000686645508, \"dividends\": 0.0}, {\"symbol\": \"WBC.AX\", \"date\": \"2021-12-20T00:00:00\", \"low\": 20.729999542236328, \"volume\": 5516218, \"high\": 21.040000915527344, \"close\": 21.010000228881836, \"open\": 20.979999542236328, \"adjclose\": 21.010000228881836, \"dividends\": 0.0}, {\"symbol\": \"WBC.AX\", \"date\": \"2021-12-21T00:00:00\", \"low\": 21.0, \"volume\": 4353612, \"high\": 21.190000534057617, \"close\": 21.049999237060547, \"open\": 21.049999237060547, \"adjclose\": 21.049999237060547, \"dividends\": 0.0}, {\"symbol\": \"WBC.AX\", \"date\": \"2021-12-22T00:00:00\", \"low\": 20.93000030517578, \"volume\": 4944213, \"high\": 21.149999618530273, \"close\": 21.06999969482422, \"open\": 21.1299991607666, \"adjclose\": 21.06999969482422, \"dividends\": 0.0}, {\"symbol\": \"WBC.AX\", \"date\": \"2021-12-23T00:00:00\", \"low\": 21.040000915527344, \"volume\": 4359824, \"high\": 21.18000030517578, \"close\": 21.18000030517578, \"open\": 21.1299991607666, \"adjclose\": 21.18000030517578, \"dividends\": 0.0}, {\"symbol\": \"WBC.AX\", \"date\": \"2021-12-24T00:00:00\", \"low\": 21.200000762939453, \"volume\": 3039364, \"high\": 21.450000762939453, \"close\": 21.200000762939453, \"open\": 21.260000228881836, \"adjclose\": 21.200000762939453, \"dividends\": 0.0}, {\"symbol\": \"WBC.AX\", \"date\": \"2021-12-29T00:00:00\", \"low\": 21.399999618530273, \"volume\": 9676188, \"high\": 21.649999618530273, \"close\": 21.459999084472656, \"open\": 21.450000762939453, \"adjclose\": 21.459999084472656, \"dividends\": 0.0}, {\"symbol\": \"WBC.AX\", \"date\": \"2021-12-30T00:00:00\", \"low\": 21.479999542236328, \"volume\": 4635337, \"high\": 21.600000381469727, \"close\": 21.5, \"open\": 21.510000228881836, \"adjclose\": 21.5, \"dividends\": 0.0}, {\"symbol\": \"WBC.AX\", \"date\": \"2021-12-31T00:00:00\", \"low\": 21.31999969482422, \"volume\": 3046280, \"high\": 21.530000686645508, \"close\": 21.350000381469727, \"open\": 21.5, \"adjclose\": 21.350000381469727, \"dividends\": 0.0}]}}, {\"mode\": \"vega-lite\"});\n",
              "</script>"
            ],
            "text/plain": [
              "alt.Chart(...)"
            ]
          },
          "execution_count": 22,
          "metadata": {},
          "output_type": "execute_result"
        }
      ],
      "source": [
        "c"
      ]
    },
    {
      "cell_type": "code",
      "execution_count": null,
      "metadata": {
        "id": "4A6x-XT2W7KH"
      },
      "outputs": [],
      "source": [
        ""
      ]
    }
  ],
  "metadata": {
    "colab": {
      "collapsed_sections": [],
      "name": "ASX_SharePriceViewer.ipynb",
      "provenance": []
    },
    "kernelspec": {
      "display_name": "Python 3",
      "name": "python3"
    },
    "language_info": {
      "name": "python"
    }
  },
  "nbformat": 4,
  "nbformat_minor": 0
}