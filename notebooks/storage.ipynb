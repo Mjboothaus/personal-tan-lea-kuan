{
  "cells": [
    {
      "cell_type": "markdown",
      "metadata": {
        "id": "view-in-github",
        "colab_type": "text"
      },
      "source": [
        "<a href=\"https://colab.research.google.com/github/Mjboothaus/personal-tan-lea-kuan/blob/main/notebooks/storage.ipynb\" target=\"_parent\"><img src=\"https://colab.research.google.com/assets/colab-badge.svg\" alt=\"Open In Colab\"/></a>"
      ]
    },
    {
      "cell_type": "markdown",
      "metadata": {
        "id": "LxLxoGGRto8v"
      },
      "source": [
        "## S3 Object Storage (on Scaleway.com)\n",
        "\n",
        "75GB of free object storage (S3) storage is available on Scaleway.\n",
        "\n",
        "https://www.simplecto.com/using-django-and-boto3-with-scaleway-object-storage/\n",
        "\n",
        "* `ACCESS_KEY_ID` and `SECRET_ACCESS_KEY` can be obtained from the [credentials control panel](https://console.scaleway.com/project/credentials) under API Keys.\n",
        "* `STORAGE_BUCKET_NAME` is the name of the bucket you create on [objects administration page](https://console.scaleway.com/object-storage/buckets)\n",
        "* `DEFAULT_ACL` is set to public-read so that the objects can be pulled from a URL without any access keys or time-limited signatures.\n",
        "* `S3_REGION_NAME` and `S3_ENDPOINT_URL` should be configured so that `boto3` knows to point to the Scaleway resources.\n",
        "\n",
        "All of these are references in the Scaleway's docs on Object Storage.\n",
        "\n",
        "### Resources:\n",
        "* https://www.scaleway.com/en/docs/object-storage-feature/\n",
        "* https://www.scaleway.com/en/docs/how-to-migrate-object-storage-buckets-with-rclone/\n",
        "* https://boto3.amazonaws.com/v1/documentation/api/latest/reference/services/s3.html"
      ]
    },
    {
      "cell_type": "code",
      "execution_count": 1,
      "metadata": {
        "id": "bd55yV-Fezo4"
      },
      "outputs": [],
      "source": [
        "import tomli\n",
        "from pathlib import Path"
      ]
    },
    {
      "cell_type": "code",
      "execution_count": 5,
      "metadata": {
        "id": "3bnvfnQLezo5"
      },
      "outputs": [],
      "source": [
        "APP_CONFIG_TOML = 'settings.toml'\n",
        "REPO_ADDRESS = \"gh:personal-tan-lea-kuan\""
      ]
    },
    {
      "cell_type": "code",
      "execution_count": 6,
      "metadata": {
        "id": "W_XCzu3hezo6"
      },
      "outputs": [],
      "source": [
        "REPO_NAME = REPO_ADDRESS.replace(\"gh:\", \"\")"
      ]
    },
    {
      "cell_type": "code",
      "execution_count": 7,
      "metadata": {
        "id": "Edi_MUw3ezo7",
        "outputId": "376b8f41-1067-47a5-cfd7-e72c04e21d56",
        "colab": {
          "base_uri": "https://localhost:8080/",
          "height": 35
        }
      },
      "outputs": [
        {
          "output_type": "execute_result",
          "data": {
            "application/vnd.google.colaboratory.intrinsic+json": {
              "type": "string"
            },
            "text/plain": [
              "'personal-tan-lea-kuan'"
            ]
          },
          "metadata": {},
          "execution_count": 7
        }
      ],
      "source": [
        "REPO_NAME"
      ]
    },
    {
      "cell_type": "code",
      "execution_count": 8,
      "metadata": {
        "id": "LoTf-eo_ezo8",
        "colab": {
          "base_uri": "https://localhost:8080/"
        },
        "outputId": "a5479d8b-57ae-4c7b-d452-4abea00f5ce5"
      },
      "outputs": [
        {
          "output_type": "stream",
          "name": "stdout",
          "text": [
            "[Errno 2] No such file or directory: '../settings.toml'\n"
          ]
        }
      ],
      "source": [
        "try:\n",
        "    with open(Path('..')/APP_CONFIG_TOML, encoding=\"utf-8\") as f:\n",
        "        app_config = tomli.load(f)\n",
        "except Exception as e:\n",
        "    print(e)"
      ]
    },
    {
      "cell_type": "code",
      "execution_count": null,
      "metadata": {
        "id": "hhKBLtKGtkKo",
        "outputId": "d737cc08-d5fe-4b07-889f-096db453cf88"
      },
      "outputs": [
        {
          "ename": "KeyError",
          "evalue": "'SECRET_ACCESS_TOML'",
          "output_type": "error",
          "traceback": [
            "\u001b[0;31m---------------------------------------------------------------------------\u001b[0m",
            "\u001b[0;31mKeyError\u001b[0m                                  Traceback (most recent call last)",
            "\u001b[0;32m/var/folders/wc/zhl433ms1fx5rvtvcrkw6dgw0000gn/T/ipykernel_89194/3136383824.py\u001b[0m in \u001b[0;36m<module>\u001b[0;34m\u001b[0m\n\u001b[1;32m      1\u001b[0m \u001b[0mACCESS_KEY_ID\u001b[0m \u001b[0;34m=\u001b[0m \u001b[0mapp_config\u001b[0m\u001b[0;34m[\u001b[0m\u001b[0;34m'S3'\u001b[0m\u001b[0;34m]\u001b[0m\u001b[0;34m[\u001b[0m\u001b[0;34m'ACCESS_KEY_ID'\u001b[0m\u001b[0;34m]\u001b[0m\u001b[0;34m\u001b[0m\u001b[0;34m\u001b[0m\u001b[0m\n\u001b[0;32m----> 2\u001b[0;31m \u001b[0mSECRET_ACCESS_TOML\u001b[0m \u001b[0;34m=\u001b[0m \u001b[0mapp_config\u001b[0m\u001b[0;34m[\u001b[0m\u001b[0;34m'S3'\u001b[0m\u001b[0;34m]\u001b[0m\u001b[0;34m[\u001b[0m\u001b[0;34m'SECRET_ACCESS_TOML'\u001b[0m\u001b[0;34m]\u001b[0m\u001b[0;34m\u001b[0m\u001b[0;34m\u001b[0m\u001b[0m\n\u001b[0m\u001b[1;32m      3\u001b[0m \u001b[0mSTORAGE_BUCKET_NAME\u001b[0m \u001b[0;34m=\u001b[0m \u001b[0mapp_config\u001b[0m\u001b[0;34m[\u001b[0m\u001b[0;34m'S3'\u001b[0m\u001b[0;34m]\u001b[0m\u001b[0;34m[\u001b[0m\u001b[0;34m'STORAGE_BUCKET_NAME'\u001b[0m\u001b[0;34m]\u001b[0m\u001b[0;34m\u001b[0m\u001b[0;34m\u001b[0m\u001b[0m\n\u001b[1;32m      4\u001b[0m \u001b[0mDEFAULT_ACL\u001b[0m \u001b[0;34m=\u001b[0m \u001b[0mapp_config\u001b[0m\u001b[0;34m[\u001b[0m\u001b[0;34m'S3'\u001b[0m\u001b[0;34m]\u001b[0m\u001b[0;34m[\u001b[0m\u001b[0;34m'DEFAULT_ACL'\u001b[0m\u001b[0;34m]\u001b[0m\u001b[0;34m\u001b[0m\u001b[0;34m\u001b[0m\u001b[0m\n\u001b[1;32m      5\u001b[0m \u001b[0mREGION_NAME\u001b[0m \u001b[0;34m=\u001b[0m \u001b[0mapp_config\u001b[0m\u001b[0;34m[\u001b[0m\u001b[0;34m'S3'\u001b[0m\u001b[0;34m]\u001b[0m\u001b[0;34m[\u001b[0m\u001b[0;34m'REGION_NAME'\u001b[0m\u001b[0;34m]\u001b[0m\u001b[0;34m\u001b[0m\u001b[0;34m\u001b[0m\u001b[0m\n",
            "\u001b[0;31mKeyError\u001b[0m: 'SECRET_ACCESS_TOML'"
          ]
        }
      ],
      "source": [
        "ACCESS_KEY_ID = app_config['S3']['ACCESS_KEY_ID']\n",
        "SECRET_ACCESS_TOML = app_config['S3']['SECRET_ACCESS_TOML']\n",
        "STORAGE_BUCKET_NAME = app_config['S3']['STORAGE_BUCKET_NAME']\n",
        "DEFAULT_ACL = app_config['S3']['DEFAULT_ACL']\n",
        "REGION_NAME = app_config['S3']['REGION_NAME']\n",
        "ENDPOINT_URL =  app_config['S3']['ENDPOINT_URL']"
      ]
    },
    {
      "cell_type": "code",
      "execution_count": null,
      "metadata": {
        "id": "_hbB1Q5vezo_",
        "outputId": "e0354dff-a602-4fb4-827b-73cb638bc7be"
      },
      "outputs": [
        {
          "data": {
            "text/plain": [
              "'app-secrets.toml'"
            ]
          },
          "execution_count": 24,
          "metadata": {},
          "output_type": "execute_result"
        }
      ],
      "source": [
        "SECRET_ACCESS_KEY"
      ]
    },
    {
      "cell_type": "code",
      "execution_count": null,
      "metadata": {
        "id": "wAHzHKMR4e02"
      },
      "outputs": [],
      "source": [
        "import boto3\n",
        "from pathlib import Path"
      ]
    },
    {
      "cell_type": "code",
      "execution_count": null,
      "metadata": {
        "id": "aR7TbuyV8bkr"
      },
      "outputs": [],
      "source": [
        "#from os import path, makedirs\n",
        "#from botocore.exceptions import ClientError\n",
        "#from boto3.exceptions import S3TransferFailedError"
      ]
    },
    {
      "cell_type": "code",
      "execution_count": null,
      "metadata": {
        "id": "musDwftk2NUx",
        "outputId": "1ad4bbaa-3c46-4375-ee00-808f5e60b8b7"
      },
      "outputs": [
        {
          "ename": "TypeError",
          "evalue": "client() got an unexpected keyword argument 'access_key_id'",
          "output_type": "error",
          "traceback": [
            "\u001b[0;31m---------------------------------------------------------------------------\u001b[0m",
            "\u001b[0;31mTypeError\u001b[0m                                 Traceback (most recent call last)",
            "\u001b[0;32m/var/folders/wc/zhl433ms1fx5rvtvcrkw6dgw0000gn/T/ipykernel_89194/4047965786.py\u001b[0m in \u001b[0;36m<module>\u001b[0;34m\u001b[0m\n\u001b[0;32m----> 1\u001b[0;31m s3 = boto3.client('s3', \n\u001b[0m\u001b[1;32m      2\u001b[0m         \u001b[0mregion_name\u001b[0m\u001b[0;34m=\u001b[0m\u001b[0mREGION_NAME\u001b[0m\u001b[0;34m,\u001b[0m\u001b[0;34m\u001b[0m\u001b[0;34m\u001b[0m\u001b[0m\n\u001b[1;32m      3\u001b[0m         \u001b[0mendpoint_url\u001b[0m\u001b[0;34m=\u001b[0m\u001b[0mENDPOINT_URL\u001b[0m\u001b[0;34m,\u001b[0m\u001b[0;34m\u001b[0m\u001b[0;34m\u001b[0m\u001b[0m\n\u001b[1;32m      4\u001b[0m         \u001b[0maccess_key_id\u001b[0m\u001b[0;34m=\u001b[0m\u001b[0mACCESS_KEY_ID\u001b[0m\u001b[0;34m,\u001b[0m\u001b[0;34m\u001b[0m\u001b[0;34m\u001b[0m\u001b[0m\n\u001b[1;32m      5\u001b[0m         secret_access_key=SECRET_ACCESS_KEY)\n",
            "\u001b[0;32m/opt/homebrew/Caskroom/mambaforge/base/envs/dbooth/lib/python3.8/site-packages/boto3/__init__.py\u001b[0m in \u001b[0;36mclient\u001b[0;34m(*args, **kwargs)\u001b[0m\n\u001b[1;32m     91\u001b[0m     \u001b[0mSee\u001b[0m \u001b[0;34m:\u001b[0m\u001b[0mpy\u001b[0m\u001b[0;34m:\u001b[0m\u001b[0mmeth\u001b[0m\u001b[0;34m:\u001b[0m\u001b[0;31m`\u001b[0m\u001b[0mboto3\u001b[0m\u001b[0;34m.\u001b[0m\u001b[0msession\u001b[0m\u001b[0;34m.\u001b[0m\u001b[0mSession\u001b[0m\u001b[0;34m.\u001b[0m\u001b[0mclient\u001b[0m\u001b[0;31m`\u001b[0m\u001b[0;34m.\u001b[0m\u001b[0;34m\u001b[0m\u001b[0;34m\u001b[0m\u001b[0m\n\u001b[1;32m     92\u001b[0m     \"\"\"\n\u001b[0;32m---> 93\u001b[0;31m     \u001b[0;32mreturn\u001b[0m \u001b[0m_get_default_session\u001b[0m\u001b[0;34m(\u001b[0m\u001b[0;34m)\u001b[0m\u001b[0;34m.\u001b[0m\u001b[0mclient\u001b[0m\u001b[0;34m(\u001b[0m\u001b[0;34m*\u001b[0m\u001b[0margs\u001b[0m\u001b[0;34m,\u001b[0m \u001b[0;34m**\u001b[0m\u001b[0mkwargs\u001b[0m\u001b[0;34m)\u001b[0m\u001b[0;34m\u001b[0m\u001b[0;34m\u001b[0m\u001b[0m\n\u001b[0m\u001b[1;32m     94\u001b[0m \u001b[0;34m\u001b[0m\u001b[0m\n\u001b[1;32m     95\u001b[0m \u001b[0;34m\u001b[0m\u001b[0m\n",
            "\u001b[0;31mTypeError\u001b[0m: client() got an unexpected keyword argument 'access_key_id'"
          ]
        }
      ],
      "source": [
        "s3 = boto3.client('s3', \n",
        "        region_name=REGION_NAME, \n",
        "        endpoint_url=ENDPOINT_URL, \n",
        "        access_key_id=ACCESS_KEY_ID,\n",
        "        secret_access_key=SECRET_ACCESS_KEY)"
      ]
    },
    {
      "cell_type": "code",
      "execution_count": null,
      "metadata": {
        "id": "T5qqtl989rnL"
      },
      "outputs": [],
      "source": [
        "def download_s3_folder(s3, bucket_name, s3_folder, local_dir=None):\n",
        "    filecount = 0\n",
        "    files = []\n",
        "    if not local_dir.exists():\n",
        "        Path.makedirs(local_dir)\n",
        "    bucket_list=s3.list_objects(Bucket=bucket_name)['Contents']\n",
        "    for s3_key in bucket_list:\n",
        "        s3_object = s3_key['Key']\n",
        "        if not s3_object.endswith(\"/\"):\n",
        "            filepath = Path(local_dir)/s3_object\n",
        "            s3.download_file(bucket_name, s3_object, filepath.as_posix())\n",
        "            filecount+=1\n",
        "            files.append(s3_object)\n",
        "        else:\n",
        "            if not (Path(local_dir)/s3_object).exists():\n",
        "                Path.makedirs(Path(local_dir)/s3_object)\n",
        "    return filecount, files"
      ]
    },
    {
      "cell_type": "code",
      "execution_count": null,
      "metadata": {
        "id": "UFftUjTu8GLz"
      },
      "outputs": [],
      "source": [
        "filecount, files = download_s3_folder(s3, STORAGE_BUCKET_NAME, REPO_NAME, Path.home()/'tmp')"
      ]
    },
    {
      "cell_type": "code",
      "execution_count": null,
      "metadata": {
        "id": "81Y5bB6yezpE",
        "outputId": "74c32a45-4391-40ee-96a8-d12b69b82279"
      },
      "outputs": [
        {
          "name": "stdout",
          "output_type": "stream",
          "text": [
            "9 files downloaded\n",
            "['emmaus-walking/GWW/2020-05-11-095108-Walking-Michael and Ai Leen’s Apple\\xa0Watch.fit', 'emmaus-walking/GWW/2020-05-18-110321-Walking-Michael and Ai Leen’s Apple\\xa0Watch.fit', 'emmaus-walking/GWW/2020-05-25-095315-Walking-Michael and Ai Leen’s Apple\\xa0Watch.fit', 'emmaus-walking/GWW/2020-05-25-115046-Walking-Michael and Ai Leen’s Apple\\xa0Watch.fit', 'emmaus-walking/GWW/2020-06-01-094350-Walking-Michael and Ai Leen’s Apple\\xa0Watch.fit', 'emmaus-walking/GWW/2020-06-15-084936-Walking-Michael and Ai Leen’s Apple\\xa0Watch.fit', 'emmaus-walking/GWW/2020-06-22-085751-Walking-Michael and Ai Leen’s Apple\\xa0Watch.fit', 'emmaus-walking/GWW/2021-03-12-085528-Walking-Michael and Ai Leen’s Apple\\xa0Watch.fit', 'emmaus-walking/GWW/2021-04-03-084312-Walking-Michael and Ai Leen’s Apple\\xa0Watch.fit']\n"
          ]
        }
      ],
      "source": [
        "print(str(filecount) + ' files downloaded')\n",
        "print(files)"
      ]
    },
    {
      "cell_type": "code",
      "execution_count": null,
      "metadata": {
        "id": "94bId9E5ezpE"
      },
      "outputs": [],
      "source": [
        ""
      ]
    }
  ],
  "metadata": {
    "colab": {
      "name": "storage.ipynb",
      "provenance": [],
      "include_colab_link": true
    },
    "interpreter": {
      "hash": "5a932f0131bd3b37022744170b7486e17b0c51aecfe809390bb226b827fce3db"
    },
    "kernelspec": {
      "display_name": "Python 3.8.10 64-bit ('dbooth': conda)",
      "name": "python3"
    },
    "language_info": {
      "codemirror_mode": {
        "name": "ipython",
        "version": 3
      },
      "file_extension": ".py",
      "mimetype": "text/x-python",
      "name": "python",
      "nbconvert_exporter": "python",
      "pygments_lexer": "ipython3",
      "version": "3.8.10"
    }
  },
  "nbformat": 4,
  "nbformat_minor": 0
}